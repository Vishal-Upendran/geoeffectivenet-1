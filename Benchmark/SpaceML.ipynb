{
 "cells": [
  {
   "cell_type": "markdown",
   "id": "92073643",
   "metadata": {},
   "source": [
    "# Ground mangnetic perturbation forecasting using deep learning"
   ]
  },
  {
   "cell_type": "markdown",
   "id": "3dea01cf",
   "metadata": {},
   "source": [
    "Author list: \n",
    "\n",
    "Paper links: "
   ]
  },
  {
   "cell_type": "markdown",
   "id": "b10d0cde",
   "metadata": {},
   "source": [
    "## Introduction"
   ]
  },
  {
   "cell_type": "markdown",
   "id": "8de7a779",
   "metadata": {},
   "source": [
    "## Table of contents\n",
    "\n",
    "1. Notebook setup\n",
    "2. Download and read data\n",
    "3. Setup model\n",
    "4. Generate forecast\n",
    "5. Time series of forecast\n",
    "6. Discussion"
   ]
  },
  {
   "cell_type": "markdown",
   "id": "2c8c084d",
   "metadata": {},
   "source": [
    "## Notebook setup"
   ]
  },
  {
   "cell_type": "markdown",
   "id": "b524353d",
   "metadata": {},
   "source": [
    "## Download and read data"
   ]
  },
  {
   "cell_type": "markdown",
   "id": "3e576995",
   "metadata": {},
   "source": [
    "## Setup model"
   ]
  },
  {
   "cell_type": "markdown",
   "id": "b6696ec2",
   "metadata": {},
   "source": [
    "## Generate forecast"
   ]
  },
  {
   "cell_type": "markdown",
   "id": "62ef4908",
   "metadata": {},
   "source": [
    "## Time series of forecast"
   ]
  },
  {
   "cell_type": "markdown",
   "id": "cc1297a4",
   "metadata": {},
   "source": [
    "## Discussion"
   ]
  },
  {
   "cell_type": "code",
   "execution_count": null,
   "id": "ce38900e",
   "metadata": {},
   "outputs": [],
   "source": []
  }
 ],
 "metadata": {
  "kernelspec": {
   "display_name": "Python 3 (ipykernel)",
   "language": "python",
   "name": "python3"
  },
  "language_info": {
   "codemirror_mode": {
    "name": "ipython",
    "version": 3
   },
   "file_extension": ".py",
   "mimetype": "text/x-python",
   "name": "python",
   "nbconvert_exporter": "python",
   "pygments_lexer": "ipython3",
   "version": "3.9.5"
  }
 },
 "nbformat": 4,
 "nbformat_minor": 5
}
