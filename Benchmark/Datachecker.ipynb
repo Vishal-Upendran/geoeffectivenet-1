{
 "cells": [
  {
   "cell_type": "code",
   "execution_count": 3,
   "id": "077ed033",
   "metadata": {},
   "outputs": [],
   "source": [
    "%matplotlib inline\n",
    "import numpy as np\n",
    "import glob\n",
    "import tqdm\n",
    "import json\n",
    "import re"
   ]
  },
  {
   "cell_type": "code",
   "execution_count": 4,
   "id": "a9728e1d",
   "metadata": {},
   "outputs": [],
   "source": [
    "import pandas as pd\n",
    "import matplotlib.pyplot as plt\n",
    "from datetime import datetime"
   ]
  },
  {
   "cell_type": "code",
   "execution_count": 3,
   "id": "2d631810",
   "metadata": {},
   "outputs": [],
   "source": [
    "def get_iaga_max_stations(tiny=False):\n",
    "    yearlist = list(np.arange(2010,2019).astype(int))\n",
    "    if tiny:\n",
    "        files = [g for y in yearlist for g in sorted(glob.glob(f\"../full_data_panos/iaga/{y}/supermag_iaga_tiny*.npz\"),key=lambda f: int(re.sub(\"\\D\", \"\", f)),) ]\n",
    "    else:\n",
    "        files = [g for y in yearlist for g in sorted(glob.glob(f\"../full_data_panos/iaga/{y}/supermag_iaga_[!tiny]*.npz\"),key=lambda f: int(re.sub(\"\\D\", \"\", f)),) ]\n",
    "    assert len(files) > 0\n",
    "    stations = []\n",
    "\n",
    "    print(\"loading supermag iaga data...\")\n",
    "    for i, f in enumerate(tqdm.tqdm(files)):\n",
    "        x = np.load(f, allow_pickle=True)\n",
    "        stations.append(x[\"stations\"])\n",
    "\n",
    "    max_stations = max([len(s) for s in stations])\n",
    "    return max_stations"
   ]
  },
  {
   "cell_type": "code",
   "execution_count": 4,
   "id": "b1d8839d",
   "metadata": {},
   "outputs": [
    {
     "name": "stdout",
     "output_type": "stream",
     "text": [
      "loading supermag iaga data...\n"
     ]
    },
    {
     "name": "stderr",
     "output_type": "stream",
     "text": [
      "100%|████████████████████████████████████████████████████████████████████████████████| 108/108 [00:00<00:00, 2236.10it/s]\n"
     ]
    },
    {
     "data": {
      "text/plain": [
       "175"
      ]
     },
     "execution_count": 4,
     "metadata": {},
     "output_type": "execute_result"
    }
   ],
   "source": [
    "get_iaga_max_stations()"
   ]
  },
  {
   "cell_type": "code",
   "execution_count": 95,
   "id": "46c8a0b9",
   "metadata": {},
   "outputs": [],
   "source": [
    "def get_iaga_data(path, tiny=False, load_data=True,max_stations=None):\n",
    "    import glob\n",
    "\n",
    "    import tqdm\n",
    "\n",
    "    if tiny:\n",
    "        files = sorted(\n",
    "            [f for f in glob.glob(path + \"supermag_iaga_tiny*.npz\")],\n",
    "            key=lambda f: int(re.sub(\"\\D\", \"\", f)),\n",
    "        )\n",
    "    else:\n",
    "        files = sorted(\n",
    "            [f for f in glob.glob(path + \"supermag_iaga_[!tiny]*.npz\")],\n",
    "            key=lambda f: int(re.sub(\"\\D\", \"\", f)),\n",
    "        )\n",
    "    assert len(files) > 0\n",
    "\n",
    "    data = []\n",
    "    dates = []\n",
    "    stations = []\n",
    "    # idx = []\n",
    "\n",
    "    print(\"loading supermag iaga data...\")\n",
    "    for i, f in enumerate(tqdm.tqdm(files)):\n",
    "        x = np.load(f, allow_pickle=True)\n",
    "#         if load_data:\n",
    "#             data.append(x[\"data\"])\n",
    "        dates.append(x[\"dates\"])\n",
    "        # print(np.datetime64(datetime.utcfromtimestamp(dates[-1][0])))\n",
    "        #idx.extend(data[-1].shape[0] * [i])\n",
    "        features = x[\"features\"]\n",
    "#         stations.append(x[\"stations\"])\n",
    "    if max_stations is None:\n",
    "        max_stations = max([len(s) for s in stations])\n",
    "    else:\n",
    "        max_stations = max_stations\n",
    "#     for i, d in enumerate(data):\n",
    "#         data[i] = np.concatenate(\n",
    "#             [d, np.zeros([d.shape[0], max_stations - d.shape[1], d.shape[2]]) * np.nan],\n",
    "#             axis=1,\n",
    "#         )\n",
    "    dates = np.concatenate(dates)\n",
    "#     if load_data:\n",
    "#         data = np.concatenate(data)\n",
    "    return dates, data, features"
   ]
  },
  {
   "cell_type": "code",
   "execution_count": 96,
   "id": "ea5774db",
   "metadata": {},
   "outputs": [],
   "source": [
    "def get_iaga_data_as_list(year,tiny=False):\n",
    "    if isinstance(year,str):\n",
    "        return get_iaga_data(f\"../full_data_panos/iaga/{year}/\",tiny=tiny)\n",
    "    elif isinstance(year,list):\n",
    "        dates = []\n",
    "        data = [] \n",
    "        features = []\n",
    "        max_stations = get_iaga_max_stations()\n",
    "        for y in year:\n",
    "            dt,dat,feat = get_iaga_data(f\"../full_data_panos/iaga/{y}/\",tiny=tiny,max_stations=max_stations)\n",
    "            dates.append(dt)\n",
    "#             data.append(dat)\n",
    "#             features.append(feat)\n",
    "        return np.concatenate(dates,axis=0)#,np.concatenate(data,axis=0),feat\n",
    "    else:\n",
    "        raise TypeError(\"year must be either a list of years, or a single year.\")\n"
   ]
  },
  {
   "cell_type": "code",
   "execution_count": 97,
   "id": "56f15040",
   "metadata": {},
   "outputs": [
    {
     "name": "stdout",
     "output_type": "stream",
     "text": [
      "[2010, 2011, 2012, 2013, 2014, 2015, 2016, 2017, 2018]\n"
     ]
    }
   ],
   "source": [
    "yearlist = list(np.arange(2010,2019).astype(int))\n",
    "print(yearlist)"
   ]
  },
  {
   "cell_type": "code",
   "execution_count": 98,
   "id": "69c2cdbe",
   "metadata": {},
   "outputs": [
    {
     "name": "stdout",
     "output_type": "stream",
     "text": [
      "loading supermag iaga data...\n"
     ]
    },
    {
     "name": "stderr",
     "output_type": "stream",
     "text": [
      "100%|████████████████████████████████████████████████████████████████████████████████| 108/108 [00:00<00:00, 2275.25it/s]\n"
     ]
    },
    {
     "name": "stdout",
     "output_type": "stream",
     "text": [
      "loading supermag iaga data...\n"
     ]
    },
    {
     "name": "stderr",
     "output_type": "stream",
     "text": [
      "100%|███████████████████████████████████████████████████████████████████████████████████| 12/12 [00:00<00:00, 746.00it/s]\n"
     ]
    },
    {
     "name": "stdout",
     "output_type": "stream",
     "text": [
      "loading supermag iaga data...\n"
     ]
    },
    {
     "name": "stderr",
     "output_type": "stream",
     "text": [
      "100%|████████████████████████████████████████████████████████████████████████████████████| 12/12 [00:00<00:00, 24.59it/s]\n"
     ]
    },
    {
     "name": "stdout",
     "output_type": "stream",
     "text": [
      "loading supermag iaga data...\n"
     ]
    },
    {
     "name": "stderr",
     "output_type": "stream",
     "text": [
      "100%|████████████████████████████████████████████████████████████████████████████████████| 12/12 [00:00<00:00, 20.71it/s]\n"
     ]
    },
    {
     "name": "stdout",
     "output_type": "stream",
     "text": [
      "loading supermag iaga data...\n"
     ]
    },
    {
     "name": "stderr",
     "output_type": "stream",
     "text": [
      "100%|████████████████████████████████████████████████████████████████████████████████████| 12/12 [00:00<00:00, 18.82it/s]\n"
     ]
    },
    {
     "name": "stdout",
     "output_type": "stream",
     "text": [
      "loading supermag iaga data...\n"
     ]
    },
    {
     "name": "stderr",
     "output_type": "stream",
     "text": [
      "100%|████████████████████████████████████████████████████████████████████████████████████| 12/12 [00:00<00:00, 19.32it/s]\n"
     ]
    },
    {
     "name": "stdout",
     "output_type": "stream",
     "text": [
      "loading supermag iaga data...\n"
     ]
    },
    {
     "name": "stderr",
     "output_type": "stream",
     "text": [
      "100%|████████████████████████████████████████████████████████████████████████████████████| 12/12 [00:00<00:00, 19.84it/s]\n"
     ]
    },
    {
     "name": "stdout",
     "output_type": "stream",
     "text": [
      "loading supermag iaga data...\n"
     ]
    },
    {
     "name": "stderr",
     "output_type": "stream",
     "text": [
      "100%|████████████████████████████████████████████████████████████████████████████████████| 12/12 [00:00<00:00, 22.06it/s]\n"
     ]
    },
    {
     "name": "stdout",
     "output_type": "stream",
     "text": [
      "loading supermag iaga data...\n"
     ]
    },
    {
     "name": "stderr",
     "output_type": "stream",
     "text": [
      "100%|████████████████████████████████████████████████████████████████████████████████████| 12/12 [00:00<00:00, 19.03it/s]\n"
     ]
    },
    {
     "name": "stdout",
     "output_type": "stream",
     "text": [
      "loading supermag iaga data...\n"
     ]
    },
    {
     "name": "stderr",
     "output_type": "stream",
     "text": [
      "100%|████████████████████████████████████████████████████████████████████████████████████| 12/12 [00:00<00:00, 23.37it/s]\n"
     ]
    }
   ],
   "source": [
    "dt = get_iaga_data_as_list(yearlist)"
   ]
  },
  {
   "cell_type": "code",
   "execution_count": 99,
   "id": "1faacd10",
   "metadata": {},
   "outputs": [
    {
     "data": {
      "text/plain": [
       "(4733280,)"
      ]
     },
     "execution_count": 99,
     "metadata": {},
     "output_type": "execute_result"
    }
   ],
   "source": [
    "dt.shape"
   ]
  },
  {
   "cell_type": "code",
   "execution_count": 23,
   "id": "b102d820",
   "metadata": {},
   "outputs": [
    {
     "data": {
      "text/plain": [
       "array([4732679, 4733279])"
      ]
     },
     "execution_count": 23,
     "metadata": {},
     "output_type": "execute_result"
    }
   ],
   "source": [
    "np.max(np.asarray(test_inds),axis=0)"
   ]
  },
  {
   "cell_type": "code",
   "execution_count": 29,
   "id": "a6462d4e",
   "metadata": {},
   "outputs": [],
   "source": [
    "v = data[np.asarray(test_inds)[:,0],:,:]"
   ]
  },
  {
   "cell_type": "code",
   "execution_count": 32,
   "id": "2534a619",
   "metadata": {},
   "outputs": [
    {
     "data": {
      "text/plain": [
       "600"
      ]
     },
     "execution_count": 32,
     "metadata": {},
     "output_type": "execute_result"
    }
   ],
   "source": [
    "inds[0,1]-inds[0,0]"
   ]
  },
  {
   "cell_type": "code",
   "execution_count": null,
   "id": "efcf6b10",
   "metadata": {},
   "outputs": [],
   "source": [
    "data[np.r_[inds],:,:].shape"
   ]
  },
  {
   "cell_type": "code",
   "execution_count": 10,
   "id": "902caa1d",
   "metadata": {},
   "outputs": [
    {
     "data": {
      "text/plain": [
       "array([[      0,     600],\n",
       "       [      1,     601],\n",
       "       [      2,     602],\n",
       "       ...,\n",
       "       [4732677, 4733277],\n",
       "       [4732678, 4733278],\n",
       "       [4732679, 4733279]])"
      ]
     },
     "execution_count": 10,
     "metadata": {},
     "output_type": "execute_result"
    }
   ],
   "source": [
    "inds"
   ]
  },
  {
   "cell_type": "code",
   "execution_count": 43,
   "id": "c3f97d71",
   "metadata": {},
   "outputs": [],
   "source": [
    "tmp = np.arange(200).reshape([20,5,2])"
   ]
  },
  {
   "cell_type": "code",
   "execution_count": 44,
   "id": "5fbe6e6e",
   "metadata": {},
   "outputs": [
    {
     "data": {
      "text/plain": [
       "(20, 5, 2)"
      ]
     },
     "execution_count": 44,
     "metadata": {},
     "output_type": "execute_result"
    }
   ],
   "source": [
    "tmp.shape"
   ]
  },
  {
   "cell_type": "code",
   "execution_count": 50,
   "id": "f134759c",
   "metadata": {},
   "outputs": [
    {
     "data": {
      "text/plain": [
       "array([[ 0,  3],\n",
       "       [15, 18]])"
      ]
     },
     "execution_count": 50,
     "metadata": {},
     "output_type": "execute_result"
    }
   ],
   "source": [
    "inds = np.asarray([[0,3],[15,18]])\n",
    "inds"
   ]
  },
  {
   "cell_type": "code",
   "execution_count": 51,
   "id": "cbdf6470",
   "metadata": {},
   "outputs": [
    {
     "data": {
      "text/plain": [
       "array([[ 0, 15],\n",
       "       [ 1, 16],\n",
       "       [ 2, 17],\n",
       "       [ 3, 18]])"
      ]
     },
     "execution_count": 51,
     "metadata": {},
     "output_type": "execute_result"
    }
   ],
   "source": [
    "new_inds = np.linspace(inds[:,0],inds[:,1],(inds[:,1]-inds[:,0])[0]+1).astype(int)\n",
    "new_inds"
   ]
  },
  {
   "cell_type": "code",
   "execution_count": 52,
   "id": "43078daa",
   "metadata": {},
   "outputs": [
    {
     "data": {
      "text/plain": [
       "(2, 4, 5, 2)"
      ]
     },
     "execution_count": 52,
     "metadata": {},
     "output_type": "execute_result"
    }
   ],
   "source": [
    "tmp[new_inds.T,:,:].shape"
   ]
  },
  {
   "cell_type": "code",
   "execution_count": 48,
   "id": "fa651c4c",
   "metadata": {},
   "outputs": [
    {
     "data": {
      "text/plain": [
       "array([[[  0,   1],\n",
       "        [  2,   3],\n",
       "        [  4,   5],\n",
       "        [  6,   7],\n",
       "        [  8,   9]],\n",
       "\n",
       "       [[ 10,  11],\n",
       "        [ 12,  13],\n",
       "        [ 14,  15],\n",
       "        [ 16,  17],\n",
       "        [ 18,  19]],\n",
       "\n",
       "       [[ 20,  21],\n",
       "        [ 22,  23],\n",
       "        [ 24,  25],\n",
       "        [ 26,  27],\n",
       "        [ 28,  29]],\n",
       "\n",
       "       [[ 30,  31],\n",
       "        [ 32,  33],\n",
       "        [ 34,  35],\n",
       "        [ 36,  37],\n",
       "        [ 38,  39]],\n",
       "\n",
       "       [[ 40,  41],\n",
       "        [ 42,  43],\n",
       "        [ 44,  45],\n",
       "        [ 46,  47],\n",
       "        [ 48,  49]],\n",
       "\n",
       "       [[ 50,  51],\n",
       "        [ 52,  53],\n",
       "        [ 54,  55],\n",
       "        [ 56,  57],\n",
       "        [ 58,  59]],\n",
       "\n",
       "       [[ 60,  61],\n",
       "        [ 62,  63],\n",
       "        [ 64,  65],\n",
       "        [ 66,  67],\n",
       "        [ 68,  69]],\n",
       "\n",
       "       [[ 70,  71],\n",
       "        [ 72,  73],\n",
       "        [ 74,  75],\n",
       "        [ 76,  77],\n",
       "        [ 78,  79]],\n",
       "\n",
       "       [[ 80,  81],\n",
       "        [ 82,  83],\n",
       "        [ 84,  85],\n",
       "        [ 86,  87],\n",
       "        [ 88,  89]],\n",
       "\n",
       "       [[ 90,  91],\n",
       "        [ 92,  93],\n",
       "        [ 94,  95],\n",
       "        [ 96,  97],\n",
       "        [ 98,  99]],\n",
       "\n",
       "       [[100, 101],\n",
       "        [102, 103],\n",
       "        [104, 105],\n",
       "        [106, 107],\n",
       "        [108, 109]],\n",
       "\n",
       "       [[110, 111],\n",
       "        [112, 113],\n",
       "        [114, 115],\n",
       "        [116, 117],\n",
       "        [118, 119]],\n",
       "\n",
       "       [[120, 121],\n",
       "        [122, 123],\n",
       "        [124, 125],\n",
       "        [126, 127],\n",
       "        [128, 129]],\n",
       "\n",
       "       [[130, 131],\n",
       "        [132, 133],\n",
       "        [134, 135],\n",
       "        [136, 137],\n",
       "        [138, 139]],\n",
       "\n",
       "       [[140, 141],\n",
       "        [142, 143],\n",
       "        [144, 145],\n",
       "        [146, 147],\n",
       "        [148, 149]],\n",
       "\n",
       "       [[150, 151],\n",
       "        [152, 153],\n",
       "        [154, 155],\n",
       "        [156, 157],\n",
       "        [158, 159]],\n",
       "\n",
       "       [[160, 161],\n",
       "        [162, 163],\n",
       "        [164, 165],\n",
       "        [166, 167],\n",
       "        [168, 169]],\n",
       "\n",
       "       [[170, 171],\n",
       "        [172, 173],\n",
       "        [174, 175],\n",
       "        [176, 177],\n",
       "        [178, 179]],\n",
       "\n",
       "       [[180, 181],\n",
       "        [182, 183],\n",
       "        [184, 185],\n",
       "        [186, 187],\n",
       "        [188, 189]],\n",
       "\n",
       "       [[190, 191],\n",
       "        [192, 193],\n",
       "        [194, 195],\n",
       "        [196, 197],\n",
       "        [198, 199]]])"
      ]
     },
     "execution_count": 48,
     "metadata": {},
     "output_type": "execute_result"
    }
   ],
   "source": [
    "tmp"
   ]
  },
  {
   "cell_type": "code",
   "execution_count": 53,
   "id": "1d1ef5bd",
   "metadata": {
    "scrolled": true
   },
   "outputs": [
    {
     "data": {
      "text/plain": [
       "array([[[[  0,   1],\n",
       "         [  2,   3],\n",
       "         [  4,   5],\n",
       "         [  6,   7],\n",
       "         [  8,   9]],\n",
       "\n",
       "        [[ 10,  11],\n",
       "         [ 12,  13],\n",
       "         [ 14,  15],\n",
       "         [ 16,  17],\n",
       "         [ 18,  19]],\n",
       "\n",
       "        [[ 20,  21],\n",
       "         [ 22,  23],\n",
       "         [ 24,  25],\n",
       "         [ 26,  27],\n",
       "         [ 28,  29]],\n",
       "\n",
       "        [[ 30,  31],\n",
       "         [ 32,  33],\n",
       "         [ 34,  35],\n",
       "         [ 36,  37],\n",
       "         [ 38,  39]]],\n",
       "\n",
       "\n",
       "       [[[150, 151],\n",
       "         [152, 153],\n",
       "         [154, 155],\n",
       "         [156, 157],\n",
       "         [158, 159]],\n",
       "\n",
       "        [[160, 161],\n",
       "         [162, 163],\n",
       "         [164, 165],\n",
       "         [166, 167],\n",
       "         [168, 169]],\n",
       "\n",
       "        [[170, 171],\n",
       "         [172, 173],\n",
       "         [174, 175],\n",
       "         [176, 177],\n",
       "         [178, 179]],\n",
       "\n",
       "        [[180, 181],\n",
       "         [182, 183],\n",
       "         [184, 185],\n",
       "         [186, 187],\n",
       "         [188, 189]]]])"
      ]
     },
     "execution_count": 53,
     "metadata": {},
     "output_type": "execute_result"
    }
   ],
   "source": [
    "tmp[new_inds.T,:,:]"
   ]
  },
  {
   "cell_type": "code",
   "execution_count": 7,
   "id": "57cbeae7",
   "metadata": {
    "scrolled": true
   },
   "outputs": [
    {
     "data": {
      "text/plain": [
       "(100, 2)"
      ]
     },
     "execution_count": 7,
     "metadata": {},
     "output_type": "execute_result"
    }
   ],
   "source": [
    "inds = np.asarray(test_inds)\n",
    "inds[:100].shape"
   ]
  },
  {
   "cell_type": "code",
   "execution_count": 5,
   "id": "c6dd6fa1",
   "metadata": {},
   "outputs": [],
   "source": [
    "with open(\"../train.txt\") as f:\n",
    "    test_inds = json.load(f)"
   ]
  },
  {
   "cell_type": "code",
   "execution_count": 81,
   "id": "761ca960",
   "metadata": {},
   "outputs": [
    {
     "data": {
      "text/plain": [
       "array([[      0,       1,       2, ..., 4732677, 4732678, 4732679],\n",
       "       [      1,       2,       3, ..., 4732678, 4732679, 4732680],\n",
       "       [      2,       3,       4, ..., 4732679, 4732680, 4732681],\n",
       "       ...,\n",
       "       [    598,     599,     600, ..., 4733275, 4733276, 4733277],\n",
       "       [    599,     600,     601, ..., 4733276, 4733277, 4733278],\n",
       "       [    600,     601,     602, ..., 4733277, 4733278, 4733279]])"
      ]
     },
     "execution_count": 81,
     "metadata": {},
     "output_type": "execute_result"
    }
   ],
   "source": [
    "inds = np.asarray(test_inds)\n",
    "new_inds = np.linspace(inds[:,0],inds[:,1],(inds[:,1]-inds[:,0])[0]+1).astype(int)\n",
    "new_inds"
   ]
  },
  {
   "cell_type": "code",
   "execution_count": 75,
   "id": "1d5f7630",
   "metadata": {},
   "outputs": [],
   "source": [
    "yearlist = list(np.arange(2010,2018).astype(str))\n",
    "omni_data = pd.concat([pd.read_hdf(\"../data_local/omni/sw_data.h5\", key=y,mode='r') for y in yearlist])"
   ]
  },
  {
   "cell_type": "code",
   "execution_count": 76,
   "id": "027c1fc0",
   "metadata": {},
   "outputs": [
    {
     "data": {
      "text/html": [
       "<div>\n",
       "<style scoped>\n",
       "    .dataframe tbody tr th:only-of-type {\n",
       "        vertical-align: middle;\n",
       "    }\n",
       "\n",
       "    .dataframe tbody tr th {\n",
       "        vertical-align: top;\n",
       "    }\n",
       "\n",
       "    .dataframe thead th {\n",
       "        text-align: right;\n",
       "    }\n",
       "</style>\n",
       "<table border=\"1\" class=\"dataframe\">\n",
       "  <thead>\n",
       "    <tr style=\"text-align: right;\">\n",
       "      <th></th>\n",
       "      <th>bx</th>\n",
       "      <th>by</th>\n",
       "      <th>bz</th>\n",
       "      <th>vx</th>\n",
       "      <th>vy</th>\n",
       "      <th>vz</th>\n",
       "      <th>density</th>\n",
       "      <th>psw</th>\n",
       "      <th>temperature</th>\n",
       "      <th>xgse</th>\n",
       "      <th>ygse</th>\n",
       "      <th>zgse</th>\n",
       "      <th>clock_angle</th>\n",
       "    </tr>\n",
       "  </thead>\n",
       "  <tbody>\n",
       "    <tr>\n",
       "      <th>2010-01-01 00:00:00</th>\n",
       "      <td>0.02</td>\n",
       "      <td>2.98</td>\n",
       "      <td>-0.39</td>\n",
       "      <td>-283.0</td>\n",
       "      <td>9.7</td>\n",
       "      <td>0.7</td>\n",
       "      <td>3.85</td>\n",
       "      <td>0.62</td>\n",
       "      <td>24931.0</td>\n",
       "      <td>231.23</td>\n",
       "      <td>13.0</td>\n",
       "      <td>13.0</td>\n",
       "      <td>1.700929</td>\n",
       "    </tr>\n",
       "    <tr>\n",
       "      <th>2010-01-01 00:01:00</th>\n",
       "      <td>0.13</td>\n",
       "      <td>2.96</td>\n",
       "      <td>-0.51</td>\n",
       "      <td>-283.0</td>\n",
       "      <td>9.7</td>\n",
       "      <td>0.7</td>\n",
       "      <td>3.85</td>\n",
       "      <td>0.62</td>\n",
       "      <td>24931.0</td>\n",
       "      <td>231.23</td>\n",
       "      <td>13.0</td>\n",
       "      <td>13.0</td>\n",
       "      <td>1.741418</td>\n",
       "    </tr>\n",
       "    <tr>\n",
       "      <th>2010-01-01 00:02:00</th>\n",
       "      <td>0.14</td>\n",
       "      <td>2.99</td>\n",
       "      <td>-0.37</td>\n",
       "      <td>-283.7</td>\n",
       "      <td>10.2</td>\n",
       "      <td>-5.2</td>\n",
       "      <td>3.92</td>\n",
       "      <td>0.63</td>\n",
       "      <td>24931.0</td>\n",
       "      <td>231.23</td>\n",
       "      <td>13.0</td>\n",
       "      <td>13.0</td>\n",
       "      <td>1.693916</td>\n",
       "    </tr>\n",
       "    <tr>\n",
       "      <th>2010-01-01 00:03:00</th>\n",
       "      <td>0.04</td>\n",
       "      <td>3.01</td>\n",
       "      <td>-0.23</td>\n",
       "      <td>-283.7</td>\n",
       "      <td>10.2</td>\n",
       "      <td>-5.3</td>\n",
       "      <td>3.92</td>\n",
       "      <td>0.63</td>\n",
       "      <td>24931.0</td>\n",
       "      <td>231.23</td>\n",
       "      <td>13.0</td>\n",
       "      <td>13.0</td>\n",
       "      <td>1.647060</td>\n",
       "    </tr>\n",
       "    <tr>\n",
       "      <th>2010-01-01 00:04:00</th>\n",
       "      <td>0.07</td>\n",
       "      <td>3.00</td>\n",
       "      <td>-0.46</td>\n",
       "      <td>-283.6</td>\n",
       "      <td>9.6</td>\n",
       "      <td>-4.1</td>\n",
       "      <td>4.02</td>\n",
       "      <td>0.65</td>\n",
       "      <td>25005.0</td>\n",
       "      <td>231.22</td>\n",
       "      <td>13.0</td>\n",
       "      <td>13.0</td>\n",
       "      <td>1.722945</td>\n",
       "    </tr>\n",
       "  </tbody>\n",
       "</table>\n",
       "</div>"
      ],
      "text/plain": [
       "                       bx    by    bz     vx    vy   vz  density   psw  \\\n",
       "2010-01-01 00:00:00  0.02  2.98 -0.39 -283.0   9.7  0.7     3.85  0.62   \n",
       "2010-01-01 00:01:00  0.13  2.96 -0.51 -283.0   9.7  0.7     3.85  0.62   \n",
       "2010-01-01 00:02:00  0.14  2.99 -0.37 -283.7  10.2 -5.2     3.92  0.63   \n",
       "2010-01-01 00:03:00  0.04  3.01 -0.23 -283.7  10.2 -5.3     3.92  0.63   \n",
       "2010-01-01 00:04:00  0.07  3.00 -0.46 -283.6   9.6 -4.1     4.02  0.65   \n",
       "\n",
       "                     temperature    xgse  ygse  zgse  clock_angle  \n",
       "2010-01-01 00:00:00      24931.0  231.23  13.0  13.0     1.700929  \n",
       "2010-01-01 00:01:00      24931.0  231.23  13.0  13.0     1.741418  \n",
       "2010-01-01 00:02:00      24931.0  231.23  13.0  13.0     1.693916  \n",
       "2010-01-01 00:03:00      24931.0  231.23  13.0  13.0     1.647060  \n",
       "2010-01-01 00:04:00      25005.0  231.22  13.0  13.0     1.722945  "
      ]
     },
     "execution_count": 76,
     "metadata": {},
     "output_type": "execute_result"
    }
   ],
   "source": [
    "omni_data.head()"
   ]
  },
  {
   "cell_type": "code",
   "execution_count": 85,
   "id": "6af083ff",
   "metadata": {},
   "outputs": [
    {
     "data": {
      "text/plain": [
       "(100, 601, 13)"
      ]
     },
     "execution_count": 85,
     "metadata": {},
     "output_type": "execute_result"
    }
   ],
   "source": [
    "np.stack([omni_data.iloc[v].to_numpy() for v in list(new_inds.T)[:100]],axis=0).shape"
   ]
  },
  {
   "cell_type": "code",
   "execution_count": 24,
   "id": "de901d23",
   "metadata": {},
   "outputs": [
    {
     "data": {
      "text/plain": [
       "(20, 13)"
      ]
     },
     "execution_count": 24,
     "metadata": {},
     "output_type": "execute_result"
    }
   ],
   "source": [
    "omni_data.iloc[np.r_[10:20,40:50]].to_numpy().shape"
   ]
  },
  {
   "cell_type": "code",
   "execution_count": 41,
   "id": "b666e129",
   "metadata": {},
   "outputs": [
    {
     "data": {
      "text/plain": [
       "([662648, 663248], [662649, 663249])"
      ]
     },
     "execution_count": 41,
     "metadata": {},
     "output_type": "execute_result"
    }
   ],
   "source": [
    "test_inds[0],test_inds[1]"
   ]
  },
  {
   "cell_type": "code",
   "execution_count": 42,
   "id": "9ffa189c",
   "metadata": {},
   "outputs": [
    {
     "data": {
      "text/plain": [
       "([3833291, 3833891], [3833290, 3833890])"
      ]
     },
     "execution_count": 42,
     "metadata": {},
     "output_type": "execute_result"
    }
   ],
   "source": [
    "test_inds[-1],test_inds[-2]"
   ]
  },
  {
   "cell_type": "code",
   "execution_count": 47,
   "id": "ed5e563d",
   "metadata": {},
   "outputs": [
    {
     "data": {
      "text/plain": [
       "[<matplotlib.lines.Line2D at 0x7fb964de5820>]"
      ]
     },
     "execution_count": 47,
     "metadata": {},
     "output_type": "execute_result"
    },
    {
     "data": {
      "image/png": "[encoded data removed]",
      "text/plain": [
       "<Figure size 432x288 with 1 Axes>"
      ]
     },
     "metadata": {
      "needs_background": "light"
     },
     "output_type": "display_data"
    }
   ],
   "source": [
    "plt.plot(inds[:,0])"
   ]
  },
  {
   "cell_type": "code",
   "execution_count": 54,
   "id": "997c15d7",
   "metadata": {},
   "outputs": [
    {
     "data": {
      "text/plain": [
       "(array([3501967, 3502567]),\n",
       " array([3501968, 3786560]),\n",
       " array([3501969, 3786561]))"
      ]
     },
     "execution_count": 54,
     "metadata": {},
     "output_type": "execute_result"
    }
   ],
   "source": [
    "inds[np.argmax((inds[:,1]-inds[:,0]))-1],inds[np.argmax((inds[:,1]-inds[:,0]))],inds[np.argmax((inds[:,1]-inds[:,0]))+1]"
   ]
  },
  {
   "cell_type": "code",
   "execution_count": 56,
   "id": "460de2f7",
   "metadata": {
    "scrolled": true
   },
   "outputs": [
    {
     "data": {
      "text/plain": [
       "(array([419988, 419989, 419990, 419991, 419992, 419993, 419994, 419995,\n",
       "        419996, 419997, 419998, 419999, 420000, 420001, 420002, 420003,\n",
       "        420004, 420005, 420006, 420007, 420008, 420009, 420010, 420011,\n",
       "        420012, 420013, 420014, 420015, 420016, 420017, 420018, 420019,\n",
       "        420020, 420021, 420022, 420023, 420024, 420025, 420026, 420027,\n",
       "        420028, 420029, 420030, 420031, 420032, 420033, 420034, 420035,\n",
       "        420036, 420037, 420038, 420039, 420040, 420041, 420042, 420043,\n",
       "        420044, 420045, 420046, 420047, 420048, 420049, 420050, 420051,\n",
       "        420052, 420053, 420054, 420055, 420056, 420057, 420058, 420059,\n",
       "        420060, 420061, 420062, 420063, 420064, 420065, 420066, 420067,\n",
       "        420068, 420069, 420070, 420071, 420072, 420073, 420074, 420075,\n",
       "        420076, 420077, 420078, 420079, 420080, 420081, 420082, 420083,\n",
       "        420084, 420085, 420086, 420087, 420088, 420089, 420090, 420091,\n",
       "        420092, 420093, 420094, 420095, 420096, 420097, 420098, 420099,\n",
       "        420100, 420101, 420102, 420103, 420104, 420105, 420106, 420107,\n",
       "        420108, 420109, 420110, 420111, 420112, 420113, 420114, 420115,\n",
       "        420116, 420117, 420118, 420119, 420120, 420121, 420122, 420123,\n",
       "        420124, 420125, 420126, 420127, 420128, 420129, 420130, 420131,\n",
       "        420132, 420133, 420134, 420135, 420136, 420137, 420138, 420139,\n",
       "        420140, 420141, 420142, 420143, 420144, 420145, 420146, 420147,\n",
       "        420148, 420149, 420150, 420151, 420152, 420153, 420154, 420155,\n",
       "        420156, 420157, 420158, 420159, 420160, 420161, 420162, 420163,\n",
       "        420164, 420165, 420166, 420167, 420168, 420169, 420170, 420171,\n",
       "        420172, 420173, 420174, 420175, 420176, 420177, 420178, 420179,\n",
       "        420180, 420181, 420182, 420183, 420184, 420185, 420186, 420187,\n",
       "        420188, 420189, 420190, 420191, 420192, 420193, 420194, 420195,\n",
       "        420196, 420197, 420198, 420199, 420200, 420201, 420202, 420203,\n",
       "        420204, 420205, 420206, 420207, 420208, 420209, 420210, 420211,\n",
       "        420212, 420213, 420214, 420215, 420216, 420217, 420218, 420219,\n",
       "        420220, 420221, 420222, 420223, 420224, 420225, 420226, 420227,\n",
       "        420228, 420229, 420230, 420231, 420232, 420233, 420234, 420235,\n",
       "        420236, 420237, 420238, 420239, 420240, 420241, 420242, 420243,\n",
       "        420244, 420245, 420246, 420247, 420248, 420249, 420250, 420251,\n",
       "        420252, 420253, 420254, 420255, 420256, 420257, 420258, 420259,\n",
       "        420260, 420261, 420262, 420263, 420264, 420265, 420266, 420267,\n",
       "        420268, 420269, 420270, 420271, 420272, 420273, 420274, 420275,\n",
       "        420276, 420277, 420278, 420279, 420280, 420281, 420282, 420283,\n",
       "        420284, 420285, 420286, 420287, 420288, 420289, 420290, 420291,\n",
       "        420292, 420293, 420294, 420295, 420296, 420297, 420298, 420299,\n",
       "        420300, 420301, 420302, 420303, 420304, 420305, 420306, 420307,\n",
       "        420308, 420309, 420310, 420311, 420312, 420313, 420314, 420315,\n",
       "        420316, 420317, 420318, 420319, 420320, 420321, 420322, 420323,\n",
       "        420324, 420325, 420326, 420327, 420328, 420329, 420330, 420331,\n",
       "        420332, 420333, 420334, 420335, 420336, 420337, 420338, 420339,\n",
       "        420340, 420341, 420342, 420343, 420344, 420345, 420346, 420347,\n",
       "        420348, 420349, 420350, 420351, 420352, 420353, 420354, 420355,\n",
       "        420356, 420357, 420358, 420359, 420360, 420361, 420362, 420363,\n",
       "        420364, 420365, 420366, 420367, 420368, 420369, 420370, 420371,\n",
       "        420372, 420373, 420374, 420375, 420376, 420377, 420378, 420379,\n",
       "        420380, 420381, 420382, 420383, 420384, 420385, 420386, 420387,\n",
       "        420388, 420389, 420390, 420391, 420392, 420393, 420394, 420395,\n",
       "        420396, 420397, 420398, 420399, 420400, 420401, 420402, 420403,\n",
       "        420404, 420405, 420406, 420407, 420408, 420409, 420410, 420411,\n",
       "        420412, 420413, 420414, 420415, 420416, 420417, 420418, 420419,\n",
       "        420420, 420421, 420422, 420423, 420424, 420425, 420426, 420427,\n",
       "        420428, 420429, 420430, 420431, 420432, 420433, 420434, 420435,\n",
       "        420436, 420437, 420438, 420439, 420440, 420441, 420442, 420443,\n",
       "        420444, 420445, 420446, 420447, 420448, 420449, 420450, 420451,\n",
       "        420452, 420453, 420454, 420455, 420456, 420457, 420458, 420459,\n",
       "        420460, 420461, 420462, 420463, 420464, 420465, 420466, 420467,\n",
       "        420468, 420469, 420470, 420471, 420472, 420473, 420474, 420475,\n",
       "        420476, 420477, 420478, 420479, 420480, 420481, 420482, 420483,\n",
       "        420484, 420485, 420486, 420487, 420488, 420489, 420490, 420491,\n",
       "        420492, 420493, 420494, 420495, 420496, 420497, 420498, 420499,\n",
       "        420500, 420501, 420502, 420503, 420504, 420505, 420506, 420507,\n",
       "        420508, 420509, 420510, 420511, 420512, 420513, 420514, 420515,\n",
       "        420516, 420517, 420518, 420519, 420520, 420521, 420522, 420523,\n",
       "        420524, 420525, 420526, 420527, 420528, 420529, 420530, 420531,\n",
       "        420532, 420533, 420534, 420535, 420536, 420537, 420538, 420539,\n",
       "        420540, 420541, 420542, 420543, 420544, 420545, 420546, 420547,\n",
       "        420548, 420549, 420550, 420551, 420552, 420553, 420554, 420555,\n",
       "        420556, 420557, 420558, 420559, 420560, 420561, 420562, 420563,\n",
       "        420564, 420565, 420566, 420567, 420568, 420569, 420570, 420571,\n",
       "        420572, 420573, 420574, 420575, 420576, 420577, 420578, 420579,\n",
       "        420580, 420581, 420582, 420583, 420584, 420585, 420586, 420587]),)"
      ]
     },
     "execution_count": 56,
     "metadata": {},
     "output_type": "execute_result"
    }
   ],
   "source": [
    "np.where((inds[:,1]-inds[:,0])!=600)"
   ]
  },
  {
   "cell_type": "code",
   "execution_count": 61,
   "id": "179607ac",
   "metadata": {},
   "outputs": [],
   "source": [
    "v = [t[1]-t[0] for t in test_inds]"
   ]
  },
  {
   "cell_type": "code",
   "execution_count": 68,
   "id": "d28f1c5c",
   "metadata": {
    "scrolled": true
   },
   "outputs": [
    {
     "data": {
      "text/plain": [
       "(array([419988, 419989, 419990, 419991, 419992, 419993, 419994, 419995,\n",
       "        419996, 419997, 419998, 419999, 420000, 420001, 420002, 420003,\n",
       "        420004, 420005, 420006, 420007, 420008, 420009, 420010, 420011,\n",
       "        420012, 420013, 420014, 420015, 420016, 420017, 420018, 420019,\n",
       "        420020, 420021, 420022, 420023, 420024, 420025, 420026, 420027,\n",
       "        420028, 420029, 420030, 420031, 420032, 420033, 420034, 420035,\n",
       "        420036, 420037, 420038, 420039, 420040, 420041, 420042, 420043,\n",
       "        420044, 420045, 420046, 420047, 420048, 420049, 420050, 420051,\n",
       "        420052, 420053, 420054, 420055, 420056, 420057, 420058, 420059,\n",
       "        420060, 420061, 420062, 420063, 420064, 420065, 420066, 420067,\n",
       "        420068, 420069, 420070, 420071, 420072, 420073, 420074, 420075,\n",
       "        420076, 420077, 420078, 420079, 420080, 420081, 420082, 420083,\n",
       "        420084, 420085, 420086, 420087, 420088, 420089, 420090, 420091,\n",
       "        420092, 420093, 420094, 420095, 420096, 420097, 420098, 420099,\n",
       "        420100, 420101, 420102, 420103, 420104, 420105, 420106, 420107,\n",
       "        420108, 420109, 420110, 420111, 420112, 420113, 420114, 420115,\n",
       "        420116, 420117, 420118, 420119, 420120, 420121, 420122, 420123,\n",
       "        420124, 420125, 420126, 420127, 420128, 420129, 420130, 420131,\n",
       "        420132, 420133, 420134, 420135, 420136, 420137, 420138, 420139,\n",
       "        420140, 420141, 420142, 420143, 420144, 420145, 420146, 420147,\n",
       "        420148, 420149, 420150, 420151, 420152, 420153, 420154, 420155,\n",
       "        420156, 420157, 420158, 420159, 420160, 420161, 420162, 420163,\n",
       "        420164, 420165, 420166, 420167, 420168, 420169, 420170, 420171,\n",
       "        420172, 420173, 420174, 420175, 420176, 420177, 420178, 420179,\n",
       "        420180, 420181, 420182, 420183, 420184, 420185, 420186, 420187,\n",
       "        420188, 420189, 420190, 420191, 420192, 420193, 420194, 420195,\n",
       "        420196, 420197, 420198, 420199, 420200, 420201, 420202, 420203,\n",
       "        420204, 420205, 420206, 420207, 420208, 420209, 420210, 420211,\n",
       "        420212, 420213, 420214, 420215, 420216, 420217, 420218, 420219,\n",
       "        420220, 420221, 420222, 420223, 420224, 420225, 420226, 420227,\n",
       "        420228, 420229, 420230, 420231, 420232, 420233, 420234, 420235,\n",
       "        420236, 420237, 420238, 420239, 420240, 420241, 420242, 420243,\n",
       "        420244, 420245, 420246, 420247, 420248, 420249, 420250, 420251,\n",
       "        420252, 420253, 420254, 420255, 420256, 420257, 420258, 420259,\n",
       "        420260, 420261, 420262, 420263, 420264, 420265, 420266, 420267,\n",
       "        420268, 420269, 420270, 420271, 420272, 420273, 420274, 420275,\n",
       "        420276, 420277, 420278, 420279, 420280, 420281, 420282, 420283,\n",
       "        420284, 420285, 420286, 420287, 420288, 420289, 420290, 420291,\n",
       "        420292, 420293, 420294, 420295, 420296, 420297, 420298, 420299,\n",
       "        420300, 420301, 420302, 420303, 420304, 420305, 420306, 420307,\n",
       "        420308, 420309, 420310, 420311, 420312, 420313, 420314, 420315,\n",
       "        420316, 420317, 420318, 420319, 420320, 420321, 420322, 420323,\n",
       "        420324, 420325, 420326, 420327, 420328, 420329, 420330, 420331,\n",
       "        420332, 420333, 420334, 420335, 420336, 420337, 420338, 420339,\n",
       "        420340, 420341, 420342, 420343, 420344, 420345, 420346, 420347,\n",
       "        420348, 420349, 420350, 420351, 420352, 420353, 420354, 420355,\n",
       "        420356, 420357, 420358, 420359, 420360, 420361, 420362, 420363,\n",
       "        420364, 420365, 420366, 420367, 420368, 420369, 420370, 420371,\n",
       "        420372, 420373, 420374, 420375, 420376, 420377, 420378, 420379,\n",
       "        420380, 420381, 420382, 420383, 420384, 420385, 420386, 420387,\n",
       "        420388, 420389, 420390, 420391, 420392, 420393, 420394, 420395,\n",
       "        420396, 420397, 420398, 420399, 420400, 420401, 420402, 420403,\n",
       "        420404, 420405, 420406, 420407, 420408, 420409, 420410, 420411,\n",
       "        420412, 420413, 420414, 420415, 420416, 420417, 420418, 420419,\n",
       "        420420, 420421, 420422, 420423, 420424, 420425, 420426, 420427,\n",
       "        420428, 420429, 420430, 420431, 420432, 420433, 420434, 420435,\n",
       "        420436, 420437, 420438, 420439, 420440, 420441, 420442, 420443,\n",
       "        420444, 420445, 420446, 420447, 420448, 420449, 420450, 420451,\n",
       "        420452, 420453, 420454, 420455, 420456, 420457, 420458, 420459,\n",
       "        420460, 420461, 420462, 420463, 420464, 420465, 420466, 420467,\n",
       "        420468, 420469, 420470, 420471, 420472, 420473, 420474, 420475,\n",
       "        420476, 420477, 420478, 420479, 420480, 420481, 420482, 420483,\n",
       "        420484, 420485, 420486, 420487, 420488, 420489, 420490, 420491,\n",
       "        420492, 420493, 420494, 420495, 420496, 420497, 420498, 420499,\n",
       "        420500, 420501, 420502, 420503, 420504, 420505, 420506, 420507,\n",
       "        420508, 420509, 420510, 420511, 420512, 420513, 420514, 420515,\n",
       "        420516, 420517, 420518, 420519, 420520, 420521, 420522, 420523,\n",
       "        420524, 420525, 420526, 420527, 420528, 420529, 420530, 420531,\n",
       "        420532, 420533, 420534, 420535, 420536, 420537, 420538, 420539,\n",
       "        420540, 420541, 420542, 420543, 420544, 420545, 420546, 420547,\n",
       "        420548, 420549, 420550, 420551, 420552, 420553, 420554, 420555,\n",
       "        420556, 420557, 420558, 420559, 420560, 420561, 420562, 420563,\n",
       "        420564, 420565, 420566, 420567, 420568, 420569, 420570, 420571,\n",
       "        420572, 420573, 420574, 420575, 420576, 420577, 420578, 420579,\n",
       "        420580, 420581, 420582, 420583, 420584, 420585, 420586, 420587]),)"
      ]
     },
     "execution_count": 68,
     "metadata": {},
     "output_type": "execute_result"
    }
   ],
   "source": [
    "np.where(np.asarray(v)!=600)"
   ]
  },
  {
   "cell_type": "code",
   "execution_count": 73,
   "id": "c915ec7c",
   "metadata": {},
   "outputs": [
    {
     "data": {
      "text/plain": [
       "[<matplotlib.lines.Line2D at 0x7fb94a3cee80>]"
      ]
     },
     "execution_count": 73,
     "metadata": {},
     "output_type": "execute_result"
    },
    {
     "data": {
      "image/png": "[encoded data removed]",
      "text/plain": [
       "<Figure size 432x288 with 1 Axes>"
      ]
     },
     "metadata": {
      "needs_background": "light"
     },
     "output_type": "display_data"
    }
   ],
   "source": [
    "plt.plot(inds[419988:420587,1]-inds[419988:420587,0])"
   ]
  },
  {
   "cell_type": "code",
   "execution_count": 74,
   "id": "e9ef0322",
   "metadata": {
    "scrolled": true
   },
   "outputs": [
    {
     "data": {
      "text/plain": [
       "array([284592, 284592, 284592, 284592, 284592, 284592, 284592, 284592,\n",
       "       284592, 284592, 284592, 284592, 284592, 284592, 284592, 284592,\n",
       "       284592, 284592, 284592, 284592, 284592, 284592, 284592, 284592,\n",
       "       284592, 284592, 284592, 284592, 284592, 284592, 284592, 284592,\n",
       "       284592, 284592, 284592, 284592, 284592, 284592, 284592, 284592,\n",
       "       284592, 284592, 284592, 284592, 284592, 284592, 284592, 284592,\n",
       "       284592, 284592, 284592, 284592, 284592, 284592, 284592, 284592,\n",
       "       284592, 284592, 284592, 284592, 284592, 284592, 284592, 284592,\n",
       "       284592, 284592, 284592, 284592, 284592, 284592, 284592, 284592,\n",
       "       284592, 284592, 284592, 284592, 284592, 284592, 284592, 284592,\n",
       "       284592, 284592, 284592, 284592, 284592, 284592, 284592, 284592,\n",
       "       284592, 284592, 284592, 284592, 284592, 284592, 284592, 284592,\n",
       "       284592, 284592, 284592, 284592, 284592, 284592, 284592, 284592,\n",
       "       284592, 284592, 284592, 284592, 284592, 284592, 284592, 284592,\n",
       "       284592, 284592, 284592, 284592, 284592, 284592, 284592, 284592,\n",
       "       284592, 284592, 284592, 284592, 284592, 284592, 284592, 284592,\n",
       "       284592, 284592, 284592, 284592, 284592, 284592, 284592, 284592,\n",
       "       284592, 284592, 284592, 284592, 284592, 284592, 284592, 284592,\n",
       "       284592, 284592, 284592, 284592, 284592, 284592, 284592, 284592,\n",
       "       284592, 284592, 284592, 284592, 284592, 284592, 284592, 284592,\n",
       "       284592, 284592, 284592, 284592, 284592, 284592, 284592, 284592,\n",
       "       284592, 284592, 284592, 284592, 284592, 284592, 284592, 284592,\n",
       "       284592, 284592, 284592, 284592, 284592, 284592, 284592, 284592,\n",
       "       284592, 284592, 284592, 284592, 284592, 284592, 284592, 284592,\n",
       "       284592, 284592, 284592, 284592, 284592, 284592, 284592, 284592,\n",
       "       284592, 284592, 284592, 284592, 284592, 284592, 284592, 284592,\n",
       "       284592, 284592, 284592, 284592, 284592, 284592, 284592, 284592,\n",
       "       284592, 284592, 284592, 284592, 284592, 284592, 284592, 284592,\n",
       "       284592, 284592, 284592, 284592, 284592, 284592, 284592, 284592,\n",
       "       284592, 284592, 284592, 284592, 284592, 284592, 284592, 284592,\n",
       "       284592, 284592, 284592, 284592, 284592, 284592, 284592, 284592,\n",
       "       284592, 284592, 284592, 284592, 284592, 284592, 284592, 284592,\n",
       "       284592, 284592, 284592, 284592, 284592, 284592, 284592, 284592,\n",
       "       284592, 284592, 284592, 284592, 284592, 284592, 284592, 284592,\n",
       "       284592, 284592, 284592, 284592, 284592, 284592, 284592, 284592,\n",
       "       284592, 284592, 284592, 284592, 284592, 284592, 284592, 284592,\n",
       "       284592, 284592, 284592, 284592, 284592, 284592, 284592, 284592,\n",
       "       284592, 284592, 284592, 284592, 284592, 284592, 284592, 284592,\n",
       "       284592, 284592, 284592, 284592, 284592, 284592, 284592, 284592,\n",
       "       284592, 284592, 284592, 284592, 284592, 284592, 284592, 284592,\n",
       "       284592, 284592, 284592, 284592, 284592, 284592, 284592, 284592,\n",
       "       284592, 284592, 284592, 284592, 284592, 284592, 284592, 284592,\n",
       "       284592, 284592, 284592, 284592, 284592, 284592, 284592, 284592,\n",
       "       284592, 284592, 284592, 284592, 284592, 284592, 284592, 284592,\n",
       "       284592, 284592, 284592, 284592, 284592, 284592, 284592, 284592,\n",
       "       284592, 284592, 284592, 284592, 284592, 284592, 284592, 284592,\n",
       "       284592, 284592, 284592, 284592, 284592, 284592, 284592, 284592,\n",
       "       284592, 284592, 284592, 284592, 284592, 284592, 284592, 284592,\n",
       "       284592, 284592, 284592, 284592, 284592, 284592, 284592, 284592,\n",
       "       284592, 284592, 284592, 284592, 284592, 284592, 284592, 284592,\n",
       "       284592, 284592, 284592, 284592, 284592, 284592, 284592, 284592,\n",
       "       284592, 284592, 284592, 284592, 284592, 284592, 284592, 284592,\n",
       "       284592, 284592, 284592, 284592, 284592, 284592, 284592, 284592,\n",
       "       284592, 284592, 284592, 284592, 284592, 284592, 284592, 284592,\n",
       "       284592, 284592, 284592, 284592, 284592, 284592, 284592, 284592,\n",
       "       284592, 284592, 284592, 284592, 284592, 284592, 284592, 284592,\n",
       "       284592, 284592, 284592, 284592, 284592, 284592, 284592, 284592,\n",
       "       284592, 284592, 284592, 284592, 284592, 284592, 284592, 284592,\n",
       "       284592, 284592, 284592, 284592, 284592, 284592, 284592, 284592,\n",
       "       284592, 284592, 284592, 284592, 284592, 284592, 284592, 284592,\n",
       "       284592, 284592, 284592, 284592, 284592, 284592, 284592, 284592,\n",
       "       284592, 284592, 284592, 284592, 284592, 284592, 284592, 284592,\n",
       "       284592, 284592, 284592, 284592, 284592, 284592, 284592, 284592,\n",
       "       284592, 284592, 284592, 284592, 284592, 284592, 284592, 284592,\n",
       "       284592, 284592, 284592, 284592, 284592, 284592, 284592, 284592,\n",
       "       284592, 284592, 284592, 284592, 284592, 284592, 284592, 284592,\n",
       "       284592, 284592, 284592, 284592, 284592, 284592, 284592, 284592,\n",
       "       284592, 284592, 284592, 284592, 284592, 284592, 284592, 284592,\n",
       "       284592, 284592, 284592, 284592, 284592, 284592, 284592, 284592,\n",
       "       284592, 284592, 284592, 284592, 284592, 284592, 284592, 284592,\n",
       "       284592, 284592, 284592, 284592, 284592, 284592, 284592, 284592,\n",
       "       284592, 284592, 284592, 284592, 284592, 284592, 284592, 284592,\n",
       "       284592, 284592, 284592, 284592, 284592, 284592, 284592, 284592,\n",
       "       284592, 284592, 284592, 284592, 284592, 284592, 284592, 284592,\n",
       "       284592, 284592, 284592, 284592, 284592, 284592, 284592])"
      ]
     },
     "execution_count": 74,
     "metadata": {},
     "output_type": "execute_result"
    }
   ],
   "source": [
    "inds[419988:420587,1]-inds[419988:420587,0]"
   ]
  },
  {
   "cell_type": "code",
   "execution_count": 79,
   "id": "cd8fc11a",
   "metadata": {},
   "outputs": [
    {
     "data": {
      "text/html": [
       "<div>\n",
       "<style scoped>\n",
       "    .dataframe tbody tr th:only-of-type {\n",
       "        vertical-align: middle;\n",
       "    }\n",
       "\n",
       "    .dataframe tbody tr th {\n",
       "        vertical-align: top;\n",
       "    }\n",
       "\n",
       "    .dataframe thead th {\n",
       "        text-align: right;\n",
       "    }\n",
       "</style>\n",
       "<table border=\"1\" class=\"dataframe\">\n",
       "  <thead>\n",
       "    <tr style=\"text-align: right;\">\n",
       "      <th></th>\n",
       "      <th>bx</th>\n",
       "      <th>by</th>\n",
       "      <th>bz</th>\n",
       "      <th>vx</th>\n",
       "      <th>vy</th>\n",
       "      <th>vz</th>\n",
       "      <th>density</th>\n",
       "      <th>psw</th>\n",
       "      <th>temperature</th>\n",
       "      <th>xgse</th>\n",
       "      <th>ygse</th>\n",
       "      <th>zgse</th>\n",
       "      <th>clock_angle</th>\n",
       "    </tr>\n",
       "  </thead>\n",
       "  <tbody>\n",
       "    <tr>\n",
       "      <th>2010-10-19 15:48:00</th>\n",
       "      <td>-1.31</td>\n",
       "      <td>-5.90</td>\n",
       "      <td>2.41</td>\n",
       "      <td>-424.6</td>\n",
       "      <td>-21.0</td>\n",
       "      <td>-45.3</td>\n",
       "      <td>5.15</td>\n",
       "      <td>1.88</td>\n",
       "      <td>167238.0</td>\n",
       "      <td>236.53</td>\n",
       "      <td>12.77</td>\n",
       "      <td>12.77</td>\n",
       "      <td>5.100180</td>\n",
       "    </tr>\n",
       "    <tr>\n",
       "      <th>2010-10-19 15:49:00</th>\n",
       "      <td>-0.80</td>\n",
       "      <td>-5.98</td>\n",
       "      <td>2.14</td>\n",
       "      <td>-428.8</td>\n",
       "      <td>-18.0</td>\n",
       "      <td>-45.7</td>\n",
       "      <td>5.22</td>\n",
       "      <td>1.94</td>\n",
       "      <td>163844.0</td>\n",
       "      <td>236.53</td>\n",
       "      <td>12.77</td>\n",
       "      <td>12.77</td>\n",
       "      <td>5.056048</td>\n",
       "    </tr>\n",
       "    <tr>\n",
       "      <th>2010-10-19 15:50:00</th>\n",
       "      <td>-1.04</td>\n",
       "      <td>-5.74</td>\n",
       "      <td>2.55</td>\n",
       "      <td>NaN</td>\n",
       "      <td>NaN</td>\n",
       "      <td>NaN</td>\n",
       "      <td>NaN</td>\n",
       "      <td>NaN</td>\n",
       "      <td>NaN</td>\n",
       "      <td>NaN</td>\n",
       "      <td>NaN</td>\n",
       "      <td>NaN</td>\n",
       "      <td>5.130452</td>\n",
       "    </tr>\n",
       "    <tr>\n",
       "      <th>2010-10-19 15:51:00</th>\n",
       "      <td>-1.03</td>\n",
       "      <td>-5.78</td>\n",
       "      <td>2.24</td>\n",
       "      <td>NaN</td>\n",
       "      <td>NaN</td>\n",
       "      <td>NaN</td>\n",
       "      <td>NaN</td>\n",
       "      <td>NaN</td>\n",
       "      <td>NaN</td>\n",
       "      <td>NaN</td>\n",
       "      <td>NaN</td>\n",
       "      <td>NaN</td>\n",
       "      <td>5.082111</td>\n",
       "    </tr>\n",
       "    <tr>\n",
       "      <th>2010-10-19 15:52:00</th>\n",
       "      <td>-1.59</td>\n",
       "      <td>-5.58</td>\n",
       "      <td>2.02</td>\n",
       "      <td>-426.8</td>\n",
       "      <td>-13.1</td>\n",
       "      <td>-49.5</td>\n",
       "      <td>6.00</td>\n",
       "      <td>2.22</td>\n",
       "      <td>178055.0</td>\n",
       "      <td>236.53</td>\n",
       "      <td>12.77</td>\n",
       "      <td>12.77</td>\n",
       "      <td>5.059720</td>\n",
       "    </tr>\n",
       "    <tr>\n",
       "      <th>...</th>\n",
       "      <td>...</td>\n",
       "      <td>...</td>\n",
       "      <td>...</td>\n",
       "      <td>...</td>\n",
       "      <td>...</td>\n",
       "      <td>...</td>\n",
       "      <td>...</td>\n",
       "      <td>...</td>\n",
       "      <td>...</td>\n",
       "      <td>...</td>\n",
       "      <td>...</td>\n",
       "      <td>...</td>\n",
       "      <td>...</td>\n",
       "    </tr>\n",
       "    <tr>\n",
       "      <th>2010-10-20 01:42:00</th>\n",
       "      <td>2.65</td>\n",
       "      <td>-2.22</td>\n",
       "      <td>-0.70</td>\n",
       "      <td>-442.0</td>\n",
       "      <td>9.5</td>\n",
       "      <td>-25.6</td>\n",
       "      <td>3.98</td>\n",
       "      <td>1.56</td>\n",
       "      <td>162780.0</td>\n",
       "      <td>236.94</td>\n",
       "      <td>13.04</td>\n",
       "      <td>13.04</td>\n",
       "      <td>4.406941</td>\n",
       "    </tr>\n",
       "    <tr>\n",
       "      <th>2010-10-20 01:43:00</th>\n",
       "      <td>2.46</td>\n",
       "      <td>-2.15</td>\n",
       "      <td>-0.85</td>\n",
       "      <td>-442.9</td>\n",
       "      <td>11.0</td>\n",
       "      <td>-31.5</td>\n",
       "      <td>3.96</td>\n",
       "      <td>1.56</td>\n",
       "      <td>160874.0</td>\n",
       "      <td>236.93</td>\n",
       "      <td>13.03</td>\n",
       "      <td>13.03</td>\n",
       "      <td>4.335899</td>\n",
       "    </tr>\n",
       "    <tr>\n",
       "      <th>2010-10-20 01:44:00</th>\n",
       "      <td>2.61</td>\n",
       "      <td>-2.12</td>\n",
       "      <td>-0.65</td>\n",
       "      <td>-443.2</td>\n",
       "      <td>9.7</td>\n",
       "      <td>-24.7</td>\n",
       "      <td>3.92</td>\n",
       "      <td>1.55</td>\n",
       "      <td>166305.0</td>\n",
       "      <td>236.94</td>\n",
       "      <td>13.04</td>\n",
       "      <td>13.04</td>\n",
       "      <td>4.414885</td>\n",
       "    </tr>\n",
       "    <tr>\n",
       "      <th>2010-10-20 01:45:00</th>\n",
       "      <td>2.49</td>\n",
       "      <td>-2.25</td>\n",
       "      <td>-0.65</td>\n",
       "      <td>-444.1</td>\n",
       "      <td>9.3</td>\n",
       "      <td>-29.3</td>\n",
       "      <td>4.05</td>\n",
       "      <td>1.61</td>\n",
       "      <td>167045.0</td>\n",
       "      <td>236.93</td>\n",
       "      <td>13.03</td>\n",
       "      <td>13.03</td>\n",
       "      <td>4.431157</td>\n",
       "    </tr>\n",
       "    <tr>\n",
       "      <th>2010-10-20 01:46:00</th>\n",
       "      <td>2.80</td>\n",
       "      <td>-2.26</td>\n",
       "      <td>-0.79</td>\n",
       "      <td>-444.1</td>\n",
       "      <td>9.2</td>\n",
       "      <td>-29.7</td>\n",
       "      <td>4.06</td>\n",
       "      <td>1.61</td>\n",
       "      <td>167137.0</td>\n",
       "      <td>236.93</td>\n",
       "      <td>13.03</td>\n",
       "      <td>13.03</td>\n",
       "      <td>4.376108</td>\n",
       "    </tr>\n",
       "  </tbody>\n",
       "</table>\n",
       "<p>599 rows × 13 columns</p>\n",
       "</div>"
      ],
      "text/plain": [
       "                       bx    by    bz     vx    vy    vz  density   psw  \\\n",
       "2010-10-19 15:48:00 -1.31 -5.90  2.41 -424.6 -21.0 -45.3     5.15  1.88   \n",
       "2010-10-19 15:49:00 -0.80 -5.98  2.14 -428.8 -18.0 -45.7     5.22  1.94   \n",
       "2010-10-19 15:50:00 -1.04 -5.74  2.55    NaN   NaN   NaN      NaN   NaN   \n",
       "2010-10-19 15:51:00 -1.03 -5.78  2.24    NaN   NaN   NaN      NaN   NaN   \n",
       "2010-10-19 15:52:00 -1.59 -5.58  2.02 -426.8 -13.1 -49.5     6.00  2.22   \n",
       "...                   ...   ...   ...    ...   ...   ...      ...   ...   \n",
       "2010-10-20 01:42:00  2.65 -2.22 -0.70 -442.0   9.5 -25.6     3.98  1.56   \n",
       "2010-10-20 01:43:00  2.46 -2.15 -0.85 -442.9  11.0 -31.5     3.96  1.56   \n",
       "2010-10-20 01:44:00  2.61 -2.12 -0.65 -443.2   9.7 -24.7     3.92  1.55   \n",
       "2010-10-20 01:45:00  2.49 -2.25 -0.65 -444.1   9.3 -29.3     4.05  1.61   \n",
       "2010-10-20 01:46:00  2.80 -2.26 -0.79 -444.1   9.2 -29.7     4.06  1.61   \n",
       "\n",
       "                     temperature    xgse   ygse   zgse  clock_angle  \n",
       "2010-10-19 15:48:00     167238.0  236.53  12.77  12.77     5.100180  \n",
       "2010-10-19 15:49:00     163844.0  236.53  12.77  12.77     5.056048  \n",
       "2010-10-19 15:50:00          NaN     NaN    NaN    NaN     5.130452  \n",
       "2010-10-19 15:51:00          NaN     NaN    NaN    NaN     5.082111  \n",
       "2010-10-19 15:52:00     178055.0  236.53  12.77  12.77     5.059720  \n",
       "...                          ...     ...    ...    ...          ...  \n",
       "2010-10-20 01:42:00     162780.0  236.94  13.04  13.04     4.406941  \n",
       "2010-10-20 01:43:00     160874.0  236.93  13.03  13.03     4.335899  \n",
       "2010-10-20 01:44:00     166305.0  236.94  13.04  13.04     4.414885  \n",
       "2010-10-20 01:45:00     167045.0  236.93  13.03  13.03     4.431157  \n",
       "2010-10-20 01:46:00     167137.0  236.93  13.03  13.03     4.376108  \n",
       "\n",
       "[599 rows x 13 columns]"
      ]
     },
     "execution_count": 79,
     "metadata": {},
     "output_type": "execute_result"
    }
   ],
   "source": [
    "omni_data.iloc[419988:420587]"
   ]
  },
  {
   "cell_type": "code",
   "execution_count": 100,
   "id": "b4546fc0",
   "metadata": {},
   "outputs": [],
   "source": [
    "check_inds = new_inds.T[:100]"
   ]
  },
  {
   "cell_type": "code",
   "execution_count": 86,
   "id": "4933cc5e",
   "metadata": {},
   "outputs": [],
   "source": [
    "f107 = np.load(\"../data_local/f107.npz\")[\"dates\"]"
   ]
  },
  {
   "cell_type": "code",
   "execution_count": 129,
   "id": "2bacf0d8",
   "metadata": {},
   "outputs": [
    {
     "data": {
      "text/plain": [
       "numpy.datetime64('1947-07-18T00:00:00.000000000')"
      ]
     },
     "execution_count": 129,
     "metadata": {},
     "output_type": "execute_result"
    }
   ],
   "source": [
    "f107[120]"
   ]
  },
  {
   "cell_type": "code",
   "execution_count": 144,
   "id": "0f63988b",
   "metadata": {},
   "outputs": [
    {
     "name": "stdout",
     "output_type": "stream",
     "text": [
      "Help on class datetime64 in module numpy:\n",
      "\n",
      "class datetime64(generic)\n",
      " |  A datetime stored as a 64-bit integer, counting from ``1970-01-01T00:00:00``.\n",
      " |  \n",
      " |  >>> np.datetime64(10, 'Y')\n",
      " |  numpy.datetime64('1980')\n",
      " |  >>> np.datetime64(10, 'D')\n",
      " |  numpy.datetime64('1970-01-11')\n",
      " |  \n",
      " |  See :ref:`arrays.datetime` for more information.\n",
      " |  \n",
      " |  :Character code: ``'M'``\n",
      " |  \n",
      " |  Method resolution order:\n",
      " |      datetime64\n",
      " |      generic\n",
      " |      builtins.object\n",
      " |  \n",
      " |  Methods defined here:\n",
      " |  \n",
      " |  __eq__(self, value, /)\n",
      " |      Return self==value.\n",
      " |  \n",
      " |  __ge__(self, value, /)\n",
      " |      Return self>=value.\n",
      " |  \n",
      " |  __gt__(self, value, /)\n",
      " |      Return self>value.\n",
      " |  \n",
      " |  __hash__(self, /)\n",
      " |      Return hash(self).\n",
      " |  \n",
      " |  __le__(self, value, /)\n",
      " |      Return self<=value.\n",
      " |  \n",
      " |  __lt__(self, value, /)\n",
      " |      Return self<value.\n",
      " |  \n",
      " |  __ne__(self, value, /)\n",
      " |      Return self!=value.\n",
      " |  \n",
      " |  __repr__(self, /)\n",
      " |      Return repr(self).\n",
      " |  \n",
      " |  __str__(self, /)\n",
      " |      Return str(self).\n",
      " |  \n",
      " |  ----------------------------------------------------------------------\n",
      " |  Static methods defined here:\n",
      " |  \n",
      " |  __new__(*args, **kwargs) from builtins.type\n",
      " |      Create and return a new object.  See help(type) for accurate signature.\n",
      " |  \n",
      " |  ----------------------------------------------------------------------\n",
      " |  Methods inherited from generic:\n",
      " |  \n",
      " |  __abs__(self, /)\n",
      " |      abs(self)\n",
      " |  \n",
      " |  __add__(self, value, /)\n",
      " |      Return self+value.\n",
      " |  \n",
      " |  __and__(self, value, /)\n",
      " |      Return self&value.\n",
      " |  \n",
      " |  __array__(...)\n",
      " |      sc.__array__(dtype) return 0-dim array from scalar with specified dtype\n",
      " |  \n",
      " |  __array_wrap__(...)\n",
      " |      sc.__array_wrap__(obj) return scalar from array\n",
      " |  \n",
      " |  __bool__(self, /)\n",
      " |      self != 0\n",
      " |  \n",
      " |  __copy__(...)\n",
      " |  \n",
      " |  __deepcopy__(...)\n",
      " |  \n",
      " |  __divmod__(self, value, /)\n",
      " |      Return divmod(self, value).\n",
      " |  \n",
      " |  __float__(self, /)\n",
      " |      float(self)\n",
      " |  \n",
      " |  __floordiv__(self, value, /)\n",
      " |      Return self//value.\n",
      " |  \n",
      " |  __format__(...)\n",
      " |      NumPy array scalar formatter\n",
      " |  \n",
      " |  __getitem__(self, key, /)\n",
      " |      Return self[key].\n",
      " |  \n",
      " |  __int__(self, /)\n",
      " |      int(self)\n",
      " |  \n",
      " |  __invert__(self, /)\n",
      " |      ~self\n",
      " |  \n",
      " |  __lshift__(self, value, /)\n",
      " |      Return self<<value.\n",
      " |  \n",
      " |  __mod__(self, value, /)\n",
      " |      Return self%value.\n",
      " |  \n",
      " |  __mul__(self, value, /)\n",
      " |      Return self*value.\n",
      " |  \n",
      " |  __neg__(self, /)\n",
      " |      -self\n",
      " |  \n",
      " |  __or__(self, value, /)\n",
      " |      Return self|value.\n",
      " |  \n",
      " |  __pos__(self, /)\n",
      " |      +self\n",
      " |  \n",
      " |  __pow__(self, value, mod=None, /)\n",
      " |      Return pow(self, value, mod).\n",
      " |  \n",
      " |  __radd__(self, value, /)\n",
      " |      Return value+self.\n",
      " |  \n",
      " |  __rand__(self, value, /)\n",
      " |      Return value&self.\n",
      " |  \n",
      " |  __rdivmod__(self, value, /)\n",
      " |      Return divmod(value, self).\n",
      " |  \n",
      " |  __reduce__(...)\n",
      " |      Helper for pickle.\n",
      " |  \n",
      " |  __rfloordiv__(self, value, /)\n",
      " |      Return value//self.\n",
      " |  \n",
      " |  __rlshift__(self, value, /)\n",
      " |      Return value<<self.\n",
      " |  \n",
      " |  __rmod__(self, value, /)\n",
      " |      Return value%self.\n",
      " |  \n",
      " |  __rmul__(self, value, /)\n",
      " |      Return value*self.\n",
      " |  \n",
      " |  __ror__(self, value, /)\n",
      " |      Return value|self.\n",
      " |  \n",
      " |  __rpow__(self, value, mod=None, /)\n",
      " |      Return pow(value, self, mod).\n",
      " |  \n",
      " |  __rrshift__(self, value, /)\n",
      " |      Return value>>self.\n",
      " |  \n",
      " |  __rshift__(self, value, /)\n",
      " |      Return self>>value.\n",
      " |  \n",
      " |  __rsub__(self, value, /)\n",
      " |      Return value-self.\n",
      " |  \n",
      " |  __rtruediv__(self, value, /)\n",
      " |      Return value/self.\n",
      " |  \n",
      " |  __rxor__(self, value, /)\n",
      " |      Return value^self.\n",
      " |  \n",
      " |  __setstate__(...)\n",
      " |  \n",
      " |  __sizeof__(...)\n",
      " |      Size of object in memory, in bytes.\n",
      " |  \n",
      " |  __sub__(self, value, /)\n",
      " |      Return self-value.\n",
      " |  \n",
      " |  __truediv__(self, value, /)\n",
      " |      Return self/value.\n",
      " |  \n",
      " |  __xor__(self, value, /)\n",
      " |      Return self^value.\n",
      " |  \n",
      " |  all(...)\n",
      " |      Scalar method identical to the corresponding array attribute.\n",
      " |      \n",
      " |      Please see `ndarray.all`.\n",
      " |  \n",
      " |  any(...)\n",
      " |      Scalar method identical to the corresponding array attribute.\n",
      " |      \n",
      " |      Please see `ndarray.any`.\n",
      " |  \n",
      " |  argmax(...)\n",
      " |      Scalar method identical to the corresponding array attribute.\n",
      " |      \n",
      " |      Please see `ndarray.argmax`.\n",
      " |  \n",
      " |  argmin(...)\n",
      " |      Scalar method identical to the corresponding array attribute.\n",
      " |      \n",
      " |      Please see `ndarray.argmin`.\n",
      " |  \n",
      " |  argsort(...)\n",
      " |      Scalar method identical to the corresponding array attribute.\n",
      " |      \n",
      " |      Please see `ndarray.argsort`.\n",
      " |  \n",
      " |  astype(...)\n",
      " |      Scalar method identical to the corresponding array attribute.\n",
      " |      \n",
      " |      Please see `ndarray.astype`.\n",
      " |  \n",
      " |  byteswap(...)\n",
      " |      Scalar method identical to the corresponding array attribute.\n",
      " |      \n",
      " |      Please see `ndarray.byteswap`.\n",
      " |  \n",
      " |  choose(...)\n",
      " |      Scalar method identical to the corresponding array attribute.\n",
      " |      \n",
      " |      Please see `ndarray.choose`.\n",
      " |  \n",
      " |  clip(...)\n",
      " |      Scalar method identical to the corresponding array attribute.\n",
      " |      \n",
      " |      Please see `ndarray.clip`.\n",
      " |  \n",
      " |  compress(...)\n",
      " |      Scalar method identical to the corresponding array attribute.\n",
      " |      \n",
      " |      Please see `ndarray.compress`.\n",
      " |  \n",
      " |  conj(...)\n",
      " |  \n",
      " |  conjugate(...)\n",
      " |      Scalar method identical to the corresponding array attribute.\n",
      " |      \n",
      " |      Please see `ndarray.conjugate`.\n",
      " |  \n",
      " |  copy(...)\n",
      " |      Scalar method identical to the corresponding array attribute.\n",
      " |      \n",
      " |      Please see `ndarray.copy`.\n",
      " |  \n",
      " |  cumprod(...)\n",
      " |      Scalar method identical to the corresponding array attribute.\n",
      " |      \n",
      " |      Please see `ndarray.cumprod`.\n",
      " |  \n",
      " |  cumsum(...)\n",
      " |      Scalar method identical to the corresponding array attribute.\n",
      " |      \n",
      " |      Please see `ndarray.cumsum`.\n",
      " |  \n",
      " |  diagonal(...)\n",
      " |      Scalar method identical to the corresponding array attribute.\n",
      " |      \n",
      " |      Please see `ndarray.diagonal`.\n",
      " |  \n",
      " |  dump(...)\n",
      " |      Scalar method identical to the corresponding array attribute.\n",
      " |      \n",
      " |      Please see `ndarray.dump`.\n",
      " |  \n",
      " |  dumps(...)\n",
      " |      Scalar method identical to the corresponding array attribute.\n",
      " |      \n",
      " |      Please see `ndarray.dumps`.\n",
      " |  \n",
      " |  fill(...)\n",
      " |      Scalar method identical to the corresponding array attribute.\n",
      " |      \n",
      " |      Please see `ndarray.fill`.\n",
      " |  \n",
      " |  flatten(...)\n",
      " |      Scalar method identical to the corresponding array attribute.\n",
      " |      \n",
      " |      Please see `ndarray.flatten`.\n",
      " |  \n",
      " |  getfield(...)\n",
      " |      Scalar method identical to the corresponding array attribute.\n",
      " |      \n",
      " |      Please see `ndarray.getfield`.\n",
      " |  \n",
      " |  item(...)\n",
      " |      Scalar method identical to the corresponding array attribute.\n",
      " |      \n",
      " |      Please see `ndarray.item`.\n",
      " |  \n",
      " |  itemset(...)\n",
      " |      Scalar method identical to the corresponding array attribute.\n",
      " |      \n",
      " |      Please see `ndarray.itemset`.\n",
      " |  \n",
      " |  max(...)\n",
      " |      Scalar method identical to the corresponding array attribute.\n",
      " |      \n",
      " |      Please see `ndarray.max`.\n",
      " |  \n",
      " |  mean(...)\n",
      " |      Scalar method identical to the corresponding array attribute.\n",
      " |      \n",
      " |      Please see `ndarray.mean`.\n",
      " |  \n",
      " |  min(...)\n",
      " |      Scalar method identical to the corresponding array attribute.\n",
      " |      \n",
      " |      Please see `ndarray.min`.\n",
      " |  \n",
      " |  newbyteorder(...)\n",
      " |      newbyteorder(new_order='S', /)\n",
      " |      \n",
      " |      Return a new `dtype` with a different byte order.\n",
      " |      \n",
      " |      Changes are also made in all fields and sub-arrays of the data type.\n",
      " |      \n",
      " |      The `new_order` code can be any from the following:\n",
      " |      \n",
      " |      * 'S' - swap dtype from current to opposite endian\n",
      " |      * {'<', 'little'} - little endian\n",
      " |      * {'>', 'big'} - big endian\n",
      " |      * '=' - native order\n",
      " |      * {'|', 'I'} - ignore (no change to byte order)\n",
      " |      \n",
      " |      Parameters\n",
      " |      ----------\n",
      " |      new_order : str, optional\n",
      " |          Byte order to force; a value from the byte order specifications\n",
      " |          above.  The default value ('S') results in swapping the current\n",
      " |          byte order.\n",
      " |      \n",
      " |      \n",
      " |      Returns\n",
      " |      -------\n",
      " |      new_dtype : dtype\n",
      " |          New `dtype` object with the given change to the byte order.\n",
      " |  \n",
      " |  nonzero(...)\n",
      " |      Scalar method identical to the corresponding array attribute.\n",
      " |      \n",
      " |      Please see `ndarray.nonzero`.\n",
      " |  \n",
      " |  prod(...)\n",
      " |      Scalar method identical to the corresponding array attribute.\n",
      " |      \n",
      " |      Please see `ndarray.prod`.\n",
      " |  \n",
      " |  ptp(...)\n",
      " |      Scalar method identical to the corresponding array attribute.\n",
      " |      \n",
      " |      Please see `ndarray.ptp`.\n",
      " |  \n",
      " |  put(...)\n",
      " |      Scalar method identical to the corresponding array attribute.\n",
      " |      \n",
      " |      Please see `ndarray.put`.\n",
      " |  \n",
      " |  ravel(...)\n",
      " |      Scalar method identical to the corresponding array attribute.\n",
      " |      \n",
      " |      Please see `ndarray.ravel`.\n",
      " |  \n",
      " |  repeat(...)\n",
      " |      Scalar method identical to the corresponding array attribute.\n",
      " |      \n",
      " |      Please see `ndarray.repeat`.\n",
      " |  \n",
      " |  reshape(...)\n",
      " |      Scalar method identical to the corresponding array attribute.\n",
      " |      \n",
      " |      Please see `ndarray.reshape`.\n",
      " |  \n",
      " |  resize(...)\n",
      " |      Scalar method identical to the corresponding array attribute.\n",
      " |      \n",
      " |      Please see `ndarray.resize`.\n",
      " |  \n",
      " |  round(...)\n",
      " |      Scalar method identical to the corresponding array attribute.\n",
      " |      \n",
      " |      Please see `ndarray.round`.\n",
      " |  \n",
      " |  searchsorted(...)\n",
      " |      Scalar method identical to the corresponding array attribute.\n",
      " |      \n",
      " |      Please see `ndarray.searchsorted`.\n",
      " |  \n",
      " |  setfield(...)\n",
      " |      Scalar method identical to the corresponding array attribute.\n",
      " |      \n",
      " |      Please see `ndarray.setfield`.\n",
      " |  \n",
      " |  setflags(...)\n",
      " |      Scalar method identical to the corresponding array attribute.\n",
      " |      \n",
      " |      Please see `ndarray.setflags`.\n",
      " |  \n",
      " |  sort(...)\n",
      " |      Scalar method identical to the corresponding array attribute.\n",
      " |      \n",
      " |      Please see `ndarray.sort`.\n",
      " |  \n",
      " |  squeeze(...)\n",
      " |      Scalar method identical to the corresponding array attribute.\n",
      " |      \n",
      " |      Please see `ndarray.squeeze`.\n",
      " |  \n",
      " |  std(...)\n",
      " |      Scalar method identical to the corresponding array attribute.\n",
      " |      \n",
      " |      Please see `ndarray.std`.\n",
      " |  \n",
      " |  sum(...)\n",
      " |      Scalar method identical to the corresponding array attribute.\n",
      " |      \n",
      " |      Please see `ndarray.sum`.\n",
      " |  \n",
      " |  swapaxes(...)\n",
      " |      Scalar method identical to the corresponding array attribute.\n",
      " |      \n",
      " |      Please see `ndarray.swapaxes`.\n",
      " |  \n",
      " |  take(...)\n",
      " |      Scalar method identical to the corresponding array attribute.\n",
      " |      \n",
      " |      Please see `ndarray.take`.\n",
      " |  \n",
      " |  tobytes(...)\n",
      " |  \n",
      " |  tofile(...)\n",
      " |      Scalar method identical to the corresponding array attribute.\n",
      " |      \n",
      " |      Please see `ndarray.tofile`.\n",
      " |  \n",
      " |  tolist(...)\n",
      " |      Scalar method identical to the corresponding array attribute.\n",
      " |      \n",
      " |      Please see `ndarray.tolist`.\n",
      " |  \n",
      " |  tostring(...)\n",
      " |      Scalar method identical to the corresponding array attribute.\n",
      " |      \n",
      " |      Please see `ndarray.tostring`.\n",
      " |  \n",
      " |  trace(...)\n",
      " |      Scalar method identical to the corresponding array attribute.\n",
      " |      \n",
      " |      Please see `ndarray.trace`.\n",
      " |  \n",
      " |  transpose(...)\n",
      " |      Scalar method identical to the corresponding array attribute.\n",
      " |      \n",
      " |      Please see `ndarray.transpose`.\n",
      " |  \n",
      " |  var(...)\n",
      " |      Scalar method identical to the corresponding array attribute.\n",
      " |      \n",
      " |      Please see `ndarray.var`.\n",
      " |  \n",
      " |  view(...)\n",
      " |      Scalar method identical to the corresponding array attribute.\n",
      " |      \n",
      " |      Please see `ndarray.view`.\n",
      " |  \n",
      " |  ----------------------------------------------------------------------\n",
      " |  Data descriptors inherited from generic:\n",
      " |  \n",
      " |  T\n",
      " |      Scalar attribute identical to the corresponding array attribute.\n",
      " |      \n",
      " |      Please see `ndarray.T`.\n",
      " |  \n",
      " |  __array_interface__\n",
      " |      Array protocol: Python side\n",
      " |  \n",
      " |  __array_priority__\n",
      " |      Array priority.\n",
      " |  \n",
      " |  __array_struct__\n",
      " |      Array protocol: struct\n",
      " |  \n",
      " |  base\n",
      " |      Scalar attribute identical to the corresponding array attribute.\n",
      " |      \n",
      " |      Please see `ndarray.base`.\n",
      " |  \n",
      " |  data\n",
      " |      Pointer to start of data.\n",
      " |  \n",
      " |  dtype\n",
      " |      Get array data-descriptor.\n",
      " |  \n",
      " |  flags\n",
      " |      The integer value of flags.\n",
      " |  \n",
      " |  flat\n",
      " |      A 1-D view of the scalar.\n",
      " |  \n",
      " |  imag\n",
      " |      The imaginary part of the scalar.\n",
      " |  \n",
      " |  itemsize\n",
      " |      The length of one element in bytes.\n",
      " |  \n",
      " |  nbytes\n",
      " |      The length of the scalar in bytes.\n",
      " |  \n",
      " |  ndim\n",
      " |      The number of array dimensions.\n",
      " |  \n",
      " |  real\n",
      " |      The real part of the scalar.\n",
      " |  \n",
      " |  shape\n",
      " |      Tuple of array dimensions.\n",
      " |  \n",
      " |  size\n",
      " |      The number of elements in the gentype.\n",
      " |  \n",
      " |  strides\n",
      " |      Tuple of bytes steps in each dimension.\n",
      "\n"
     ]
    }
   ],
   "source": [
    "help(np.datetime64)"
   ]
  },
  {
   "cell_type": "code",
   "execution_count": 165,
   "id": "6f236ac0",
   "metadata": {},
   "outputs": [],
   "source": [
    "v = dt[check_inds.astype(int)]"
   ]
  },
  {
   "cell_type": "code",
   "execution_count": 166,
   "id": "1ffbdd23",
   "metadata": {},
   "outputs": [
    {
     "data": {
      "text/plain": [
       "array([[1.26230400e+09, 1.26230406e+09, 1.26230412e+09, ...,\n",
       "        1.26233988e+09, 1.26233994e+09, 1.26234000e+09],\n",
       "       [1.26230406e+09, 1.26230412e+09, 1.26230418e+09, ...,\n",
       "        1.26233994e+09, 1.26234000e+09, 1.26234006e+09],\n",
       "       [1.26230412e+09, 1.26230418e+09, 1.26230424e+09, ...,\n",
       "        1.26234000e+09, 1.26234006e+09, 1.26234012e+09],\n",
       "       ...,\n",
       "       [1.26230982e+09, 1.26230988e+09, 1.26230994e+09, ...,\n",
       "        1.26234570e+09, 1.26234576e+09, 1.26234582e+09],\n",
       "       [1.26230988e+09, 1.26230994e+09, 1.26231000e+09, ...,\n",
       "        1.26234576e+09, 1.26234582e+09, 1.26234588e+09],\n",
       "       [1.26230994e+09, 1.26231000e+09, 1.26231006e+09, ...,\n",
       "        1.26234582e+09, 1.26234588e+09, 1.26234594e+09]])"
      ]
     },
     "execution_count": 166,
     "metadata": {},
     "output_type": "execute_result"
    }
   ],
   "source": [
    "v"
   ]
  },
  {
   "cell_type": "code",
   "execution_count": 169,
   "id": "52ffffce",
   "metadata": {},
   "outputs": [
    {
     "data": {
      "text/plain": [
       "array([[0., 0., 0., ..., 0., 0., 0.],\n",
       "       [0., 0., 0., ..., 0., 0., 0.],\n",
       "       [0., 0., 0., ..., 0., 0., 0.],\n",
       "       ...,\n",
       "       [0., 0., 0., ..., 0., 0., 0.],\n",
       "       [0., 0., 0., ..., 0., 0., 0.],\n",
       "       [0., 0., 0., ..., 0., 0., 0.]])"
      ]
     },
     "execution_count": 169,
     "metadata": {},
     "output_type": "execute_result"
    }
   ],
   "source": [
    "v.reshape(-1).reshape(list(v.shape))-v"
   ]
  },
  {
   "cell_type": "code",
   "execution_count": 172,
   "id": "f7dceab3",
   "metadata": {},
   "outputs": [],
   "source": [
    "tmp = pd.to_datetime(dt[check_inds.astype(int)].reshape(-1),unit='s').to_numpy().reshape(list(v.shape))"
   ]
  },
  {
   "cell_type": "code",
   "execution_count": 131,
   "id": "e81ac68a",
   "metadata": {},
   "outputs": [
    {
     "ename": "ValueError",
     "evalue": "Could not convert object to NumPy datetime",
     "output_type": "error",
     "traceback": [
      "\u001b[0;31m---------------------------------------------------------------------------\u001b[0m",
      "\u001b[0;31mValueError\u001b[0m                                Traceback (most recent call last)",
      "\u001b[0;32m/tmp/ipykernel_1904091/2544523088.py\u001b[0m in \u001b[0;36m<module>\u001b[0;34m\u001b[0m\n\u001b[0;32m----> 1\u001b[0;31m \u001b[0mdt_subset\u001b[0m \u001b[0;34m=\u001b[0m \u001b[0mnp\u001b[0m\u001b[0;34m.\u001b[0m\u001b[0mdatetime64\u001b[0m\u001b[0;34m(\u001b[0m\u001b[0mnp\u001b[0m\u001b[0;34m.\u001b[0m\u001b[0mvectorize\u001b[0m\u001b[0;34m(\u001b[0m\u001b[0mdatetime\u001b[0m\u001b[0;34m.\u001b[0m\u001b[0mutcfromtimestamp\u001b[0m\u001b[0;34m)\u001b[0m\u001b[0;34m(\u001b[0m\u001b[0mdt\u001b[0m\u001b[0;34m[\u001b[0m\u001b[0mcheck_inds\u001b[0m\u001b[0;34m.\u001b[0m\u001b[0mastype\u001b[0m\u001b[0;34m(\u001b[0m\u001b[0mint\u001b[0m\u001b[0;34m)\u001b[0m\u001b[0;34m]\u001b[0m\u001b[0;34m)\u001b[0m\u001b[0;34m)\u001b[0m\u001b[0;34m\u001b[0m\u001b[0;34m\u001b[0m\u001b[0m\n\u001b[0m",
      "\u001b[0;31mValueError\u001b[0m: Could not convert object to NumPy datetime"
     ]
    }
   ],
   "source": [
    "dt_subset = np.datetime64(datetime.utcfromtimestamp(dt[check_inds.astype(int)]).replace(hour=0, minute=0))"
   ]
  },
  {
   "cell_type": "code",
   "execution_count": 173,
   "id": "935ef3fa",
   "metadata": {},
   "outputs": [],
   "source": [
    "match = np.argmin(np.abs(np.expand_dims(tmp,axis=-1)-f107.reshape([1,1,-1])),axis=-1)"
   ]
  },
  {
   "cell_type": "code",
   "execution_count": 175,
   "id": "f5f55c10",
   "metadata": {},
   "outputs": [
    {
     "data": {
      "text/plain": [
       "(100, 601)"
      ]
     },
     "execution_count": 175,
     "metadata": {},
     "output_type": "execute_result"
    }
   ],
   "source": [
    "f107[match].shape"
   ]
  },
  {
   "cell_type": "code",
   "execution_count": null,
   "id": "977d4016",
   "metadata": {},
   "outputs": [],
   "source": []
  }
 ],
 "metadata": {
  "kernelspec": {
   "display_name": "Python 3 (ipykernel)",
   "language": "python",
   "name": "python3"
  },
  "language_info": {
   "codemirror_mode": {
    "name": "ipython",
    "version": 3
   },
   "file_extension": ".py",
   "mimetype": "text/x-python",
   "name": "python",
   "nbconvert_exporter": "python",
   "pygments_lexer": "ipython3",
   "version": "3.9.5"
  }
 },
 "nbformat": 4,
 "nbformat_minor": 5
}
