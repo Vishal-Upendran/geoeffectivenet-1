{
 "cells": [
  {
   "cell_type": "code",
   "execution_count": 2,
   "id": "76863184",
   "metadata": {},
   "outputs": [],
   "source": [
    "%matplotlib inline\n",
    "import numpy as np\n",
    "import glob\n",
    "import tqdm\n",
    "import json\n",
    "import re"
   ]
  },
  {
   "cell_type": "code",
   "execution_count": 3,
   "id": "e64dabb2",
   "metadata": {},
   "outputs": [],
   "source": [
    "def get_iaga_max_stations(tiny=False):\n",
    "    yearlist = list(np.arange(2010,2019).astype(int))\n",
    "    if tiny:\n",
    "        files = [g for y in yearlist for g in sorted(glob.glob(f\"../full_data_panos/iaga/{y}/supermag_iaga_tiny*.npz\"),key=lambda f: int(re.sub(\"\\D\", \"\", f)),) ]\n",
    "    else:\n",
    "        files = [g for y in yearlist for g in sorted(glob.glob(f\"../full_data_panos/iaga/{y}/supermag_iaga_[!tiny]*.npz\"),key=lambda f: int(re.sub(\"\\D\", \"\", f)),) ]\n",
    "    assert len(files) > 0\n",
    "    stations = []\n",
    "\n",
    "    print(\"loading supermag iaga data...\")\n",
    "    for i, f in enumerate(tqdm.tqdm(files)):\n",
    "        x = np.load(f, allow_pickle=True)\n",
    "        stations.append(x[\"stations\"])\n",
    "\n",
    "    max_stations = max([len(s) for s in stations])\n",
    "    return max_stations"
   ]
  },
  {
   "cell_type": "code",
   "execution_count": 4,
   "id": "b6d6f35e",
   "metadata": {},
   "outputs": [
    {
     "name": "stdout",
     "output_type": "stream",
     "text": [
      "loading supermag iaga data...\n"
     ]
    },
    {
     "name": "stderr",
     "output_type": "stream",
     "text": [
      "100%|██████████████████████████████████████████████████████████████████████████████████| 108/108 [00:04<00:00, 24.77it/s]\n"
     ]
    },
    {
     "data": {
      "text/plain": [
       "175"
      ]
     },
     "execution_count": 4,
     "metadata": {},
     "output_type": "execute_result"
    }
   ],
   "source": [
    "get_iaga_max_stations()"
   ]
  },
  {
   "cell_type": "code",
   "execution_count": 5,
   "id": "f01c3a1a",
   "metadata": {},
   "outputs": [],
   "source": [
    "def get_iaga_data(path, tiny=False, load_data=True,max_stations=None):\n",
    "    import glob\n",
    "\n",
    "    import tqdm\n",
    "\n",
    "    if tiny:\n",
    "        files = sorted(\n",
    "            [f for f in glob.glob(path + \"supermag_iaga_tiny*.npz\")],\n",
    "            key=lambda f: int(re.sub(\"\\D\", \"\", f)),\n",
    "        )\n",
    "    else:\n",
    "        files = sorted(\n",
    "            [f for f in glob.glob(path + \"supermag_iaga_[!tiny]*.npz\")],\n",
    "            key=lambda f: int(re.sub(\"\\D\", \"\", f)),\n",
    "        )\n",
    "    assert len(files) > 0\n",
    "\n",
    "    data = []\n",
    "    dates = []\n",
    "    stations = []\n",
    "    # idx = []\n",
    "\n",
    "    print(\"loading supermag iaga data...\")\n",
    "    for i, f in enumerate(tqdm.tqdm(files)):\n",
    "        x = np.load(f, allow_pickle=True)\n",
    "        if load_data:\n",
    "            data.append(x[\"data\"])\n",
    "        dates.append(x[\"dates\"])\n",
    "        # print(np.datetime64(datetime.utcfromtimestamp(dates[-1][0])))\n",
    "        #idx.extend(data[-1].shape[0] * [i])\n",
    "        features = x[\"features\"]\n",
    "        stations.append(x[\"stations\"])\n",
    "    if max_stations is None:\n",
    "        max_stations = max([len(s) for s in stations])\n",
    "    else:\n",
    "        max_stations = max_stations\n",
    "    for i, d in enumerate(data):\n",
    "        data[i] = np.concatenate(\n",
    "            [d, np.zeros([d.shape[0], max_stations - d.shape[1], d.shape[2]]) * np.nan],\n",
    "            axis=1,\n",
    "        )\n",
    "    dates = np.concatenate(dates)\n",
    "    if load_data:\n",
    "        data = np.concatenate(data)\n",
    "    return dates, data, features"
   ]
  },
  {
   "cell_type": "code",
   "execution_count": 6,
   "id": "d1788b24",
   "metadata": {},
   "outputs": [],
   "source": [
    "def get_iaga_data_as_list(year,tiny=False):\n",
    "    if isinstance(year,str):\n",
    "        return get_iaga_data(f\"../full_data_panos/iaga/{year}/\",tiny=tiny)\n",
    "    elif isinstance(year,list):\n",
    "        dates = []\n",
    "        data = [] \n",
    "        features = []\n",
    "        max_stations = get_iaga_max_stations()\n",
    "        for y in year:\n",
    "            dt,dat,feat = get_iaga_data(f\"../full_data_panos/iaga/{y}/\",tiny=tiny,max_stations=max_stations)\n",
    "            print(dt.shape,dat.shape,feat.shape)\n",
    "            dates.append(dt)\n",
    "            data.append(dat)\n",
    "            features.append(feat)\n",
    "        return np.concatenate(dates,axis=0),np.concatenate(data,axis=0),feat\n",
    "    else:\n",
    "        raise TypeError(\"year must be either a list of years, or a single year.\")\n"
   ]
  },
  {
   "cell_type": "code",
   "execution_count": 7,
   "id": "abdee633",
   "metadata": {},
   "outputs": [
    {
     "name": "stdout",
     "output_type": "stream",
     "text": [
      "[2010, 2011, 2012, 2013, 2014, 2015, 2016, 2017, 2018]\n"
     ]
    }
   ],
   "source": [
    "yearlist = list(np.arange(2010,2019).astype(int))\n",
    "print(yearlist)"
   ]
  },
  {
   "cell_type": "code",
   "execution_count": 8,
   "id": "f177df8a",
   "metadata": {},
   "outputs": [
    {
     "name": "stdout",
     "output_type": "stream",
     "text": [
      "loading supermag iaga data...\n"
     ]
    },
    {
     "name": "stderr",
     "output_type": "stream",
     "text": [
      "100%|████████████████████████████████████████████████████████████████████████████████| 108/108 [00:00<00:00, 2343.24it/s]\n"
     ]
    },
    {
     "name": "stdout",
     "output_type": "stream",
     "text": [
      "loading supermag iaga data...\n"
     ]
    },
    {
     "name": "stderr",
     "output_type": "stream",
     "text": [
      "100%|████████████████████████████████████████████████████████████████████████████████████| 12/12 [00:30<00:00,  2.56s/it]\n"
     ]
    },
    {
     "name": "stdout",
     "output_type": "stream",
     "text": [
      "(525600,) (525600, 175, 6) (6,)\n",
      "loading supermag iaga data...\n"
     ]
    },
    {
     "name": "stderr",
     "output_type": "stream",
     "text": [
      "100%|████████████████████████████████████████████████████████████████████████████████████| 12/12 [00:31<00:00,  2.61s/it]\n"
     ]
    },
    {
     "name": "stdout",
     "output_type": "stream",
     "text": [
      "(525600,) (525600, 175, 6) (6,)\n",
      "loading supermag iaga data...\n"
     ]
    },
    {
     "name": "stderr",
     "output_type": "stream",
     "text": [
      "100%|████████████████████████████████████████████████████████████████████████████████████| 12/12 [00:34<00:00,  2.86s/it]\n"
     ]
    },
    {
     "name": "stdout",
     "output_type": "stream",
     "text": [
      "(527040,) (527040, 175, 6) (6,)\n",
      "loading supermag iaga data...\n"
     ]
    },
    {
     "name": "stderr",
     "output_type": "stream",
     "text": [
      "100%|████████████████████████████████████████████████████████████████████████████████████| 12/12 [00:31<00:00,  2.65s/it]\n"
     ]
    },
    {
     "name": "stdout",
     "output_type": "stream",
     "text": [
      "(525600,) (525600, 175, 6) (6,)\n",
      "loading supermag iaga data...\n"
     ]
    },
    {
     "name": "stderr",
     "output_type": "stream",
     "text": [
      "100%|████████████████████████████████████████████████████████████████████████████████████| 12/12 [00:28<00:00,  2.39s/it]\n"
     ]
    },
    {
     "name": "stdout",
     "output_type": "stream",
     "text": [
      "(525600,) (525600, 175, 6) (6,)\n",
      "loading supermag iaga data...\n"
     ]
    },
    {
     "name": "stderr",
     "output_type": "stream",
     "text": [
      "100%|████████████████████████████████████████████████████████████████████████████████████| 12/12 [00:30<00:00,  2.52s/it]\n"
     ]
    },
    {
     "name": "stdout",
     "output_type": "stream",
     "text": [
      "(525600,) (525600, 175, 6) (6,)\n",
      "loading supermag iaga data...\n"
     ]
    },
    {
     "name": "stderr",
     "output_type": "stream",
     "text": [
      "100%|████████████████████████████████████████████████████████████████████████████████████| 12/12 [00:30<00:00,  2.55s/it]\n"
     ]
    },
    {
     "name": "stdout",
     "output_type": "stream",
     "text": [
      "(527040,) (527040, 175, 6) (6,)\n",
      "loading supermag iaga data...\n"
     ]
    },
    {
     "name": "stderr",
     "output_type": "stream",
     "text": [
      "100%|████████████████████████████████████████████████████████████████████████████████████| 12/12 [00:30<00:00,  2.56s/it]\n"
     ]
    },
    {
     "name": "stdout",
     "output_type": "stream",
     "text": [
      "(525600,) (525600, 175, 6) (6,)\n",
      "loading supermag iaga data...\n"
     ]
    },
    {
     "name": "stderr",
     "output_type": "stream",
     "text": [
      "100%|████████████████████████████████████████████████████████████████████████████████████| 12/12 [00:29<00:00,  2.49s/it]\n"
     ]
    },
    {
     "name": "stdout",
     "output_type": "stream",
     "text": [
      "(525600,) (525600, 175, 6) (6,)\n"
     ]
    }
   ],
   "source": [
    "dt,data,ft = get_iaga_data_as_list(yearlist)"
   ]
  },
  {
   "cell_type": "code",
   "execution_count": 9,
   "id": "ed77a1c5",
   "metadata": {},
   "outputs": [
    {
     "data": {
      "text/plain": [
       "(4733280, 175, 6)"
      ]
     },
     "execution_count": 9,
     "metadata": {},
     "output_type": "execute_result"
    }
   ],
   "source": [
    "data.shape"
   ]
  },
  {
   "cell_type": "code",
   "execution_count": 22,
   "id": "91cff8a2",
   "metadata": {},
   "outputs": [],
   "source": [
    "with open(\"../train.txt\") as f:\n",
    "    test_inds = json.load(f)"
   ]
  },
  {
   "cell_type": "code",
   "execution_count": 23,
   "id": "5f810900",
   "metadata": {},
   "outputs": [
    {
     "data": {
      "text/plain": [
       "array([4732679, 4733279])"
      ]
     },
     "execution_count": 23,
     "metadata": {},
     "output_type": "execute_result"
    }
   ],
   "source": [
    "np.max(np.asarray(test_inds),axis=0)"
   ]
  },
  {
   "cell_type": "code",
   "execution_count": 25,
   "id": "2bd1254b",
   "metadata": {},
   "outputs": [
    {
     "data": {
      "text/plain": [
       "1"
      ]
     },
     "execution_count": 25,
     "metadata": {},
     "output_type": "execute_result"
    }
   ],
   "source": [
    "4733280-4733279"
   ]
  },
  {
   "cell_type": "code",
   "execution_count": null,
   "id": "b5a6a7b2",
   "metadata": {},
   "outputs": [],
   "source": []
  }
 ],
 "metadata": {
  "kernelspec": {
   "display_name": "Python 3 (ipykernel)",
   "language": "python",
   "name": "python3"
  },
  "language_info": {
   "codemirror_mode": {
    "name": "ipython",
    "version": 3
   },
   "file_extension": ".py",
   "mimetype": "text/x-python",
   "name": "python",
   "nbconvert_exporter": "python",
   "pygments_lexer": "ipython3",
   "version": "3.9.5"
  }
 },
 "nbformat": 4,
 "nbformat_minor": 5
}
